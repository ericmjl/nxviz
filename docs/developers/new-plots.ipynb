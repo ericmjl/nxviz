{
 "cells": [
  {
   "cell_type": "markdown",
   "id": "renewable-storage",
   "metadata": {},
   "source": [
    "# Implementing a new plot\n",
    "\n",
    "We'll show you how to implement a new plot using the nxviz's layered API.\n",
    "\n",
    "As an example, we'll show you how the design process works\n",
    "for the matrix plot."
   ]
  },
  {
   "cell_type": "code",
   "execution_count": 1,
   "id": "rational-complaint",
   "metadata": {
    "execution": {
     "iopub.execute_input": "2021-03-25T18:22:58.366053Z",
     "iopub.status.busy": "2021-03-25T18:22:58.365874Z",
     "iopub.status.idle": "2021-03-25T18:22:58.390785Z",
     "shell.execute_reply": "2021-03-25T18:22:58.390372Z",
     "shell.execute_reply.started": "2021-03-25T18:22:58.366005Z"
    }
   },
   "outputs": [],
   "source": [
    "%config InlineBackend.figure_format = 'retina'\n",
    "%load_ext autoreload\n",
    "%autoreload 2"
   ]
  },
  {
   "cell_type": "markdown",
   "id": "first-rates",
   "metadata": {},
   "source": [
    "## Example graph\n",
    "\n",
    "As always, we'll need an example graph to anchor our notebook."
   ]
  },
  {
   "cell_type": "code",
   "execution_count": 2,
   "id": "little-organ",
   "metadata": {
    "execution": {
     "iopub.execute_input": "2021-03-25T18:22:58.392019Z",
     "iopub.status.busy": "2021-03-25T18:22:58.391887Z",
     "iopub.status.idle": "2021-03-25T18:22:58.702630Z",
     "shell.execute_reply": "2021-03-25T18:22:58.702242Z",
     "shell.execute_reply.started": "2021-03-25T18:22:58.392005Z"
    },
    "tags": []
   },
   "outputs": [],
   "source": [
    "import networkx as nx\n",
    "import numpy as np\n",
    "from random import choice\n",
    "G = nx.erdos_renyi_graph(n=20, p=0.1)\n",
    "for n, d in G.nodes(data=True):\n",
    "    G.nodes[n][\"group\"] = choice([\"a\", \"b\", \"c\"])\n",
    "    G.nodes[n][\"value\"] = np.random.exponential()\n",
    "\n",
    "np.random.seed(44)\n",
    "for u, v, d in G.edges(data=True):\n",
    "    G.edges[u, v][\"edge_value\"] = np.random.exponential()"
   ]
  },
  {
   "cell_type": "markdown",
   "id": "potential-alloy",
   "metadata": {},
   "source": [
    "## Implement node layout\n",
    "\n",
    "We first have to worry about how the nodes are placed.\n",
    "Therefore, we need a node layout function.\n",
    "\n",
    "All node layout functions accept the following arguments:\n",
    "\n",
    "- a node table `nt`,\n",
    "- the key to `group_by`\n",
    "- the key to `sort_by` (optionally)\n",
    "- any other relevant keyword arguments\n",
    "\n",
    "With the matrix plot layout,\n",
    "from thinking about how the nodes should be laid out,\n",
    "we will probably arrive at the conclusion\n",
    "that grouping and sorting are technically optional\n",
    "and not intrinsic to the layout.\n",
    "If that's not obvious at first glance,\n",
    "please think about it, you'll probably arrive at the same conclusion!\n",
    "\n",
    "They then return the x, y coordinates to place nodes on.\n",
    "\n",
    "The exact glyphs and their styles are out-of-bounds!\n",
    "Therefore, don't worry about them just yet."
   ]
  },
  {
   "cell_type": "code",
   "execution_count": 3,
   "id": "solved-puppy",
   "metadata": {
    "execution": {
     "iopub.execute_input": "2021-03-25T18:22:58.703356Z",
     "iopub.status.busy": "2021-03-25T18:22:58.703268Z",
     "iopub.status.idle": "2021-03-25T18:23:01.819820Z",
     "shell.execute_reply": "2021-03-25T18:23:01.819347Z",
     "shell.execute_reply.started": "2021-03-25T18:22:58.703344Z"
    },
    "tags": []
   },
   "outputs": [],
   "source": [
    "from nxviz.utils import group_and_sort\n",
    "from typing import Hashable\n",
    "import pandas as pd\n",
    "\n",
    "# Just the skeleton first!\n",
    "def matrix_layout(nt: pd.DataFrame, group_by: Hashable=None, sort_by: Hashable=None):\n",
    "    nt = group_and_sort(nt=nt, group_by=group_by, sort_by=sort_by)"
   ]
  },
  {
   "cell_type": "markdown",
   "id": "induced-going",
   "metadata": {},
   "source": [
    "With a matrix plot, our goal is to place nodes along the x- and y-axis.\n",
    "It's a bit like the hive plot with cloned axes.\n",
    "\n",
    "See the code annotations for the logic."
   ]
  },
  {
   "cell_type": "code",
   "execution_count": 4,
   "id": "lasting-detail",
   "metadata": {
    "execution": {
     "iopub.execute_input": "2021-03-25T18:23:01.820897Z",
     "iopub.status.busy": "2021-03-25T18:23:01.820778Z",
     "iopub.status.idle": "2021-03-25T18:23:01.854265Z",
     "shell.execute_reply": "2021-03-25T18:23:01.853835Z",
     "shell.execute_reply.started": "2021-03-25T18:23:01.820883Z"
    },
    "tags": []
   },
   "outputs": [],
   "source": [
    "# Filling in the x,y positions dictionary.\n",
    "def matrix_layout(nt: pd.DataFrame, group_by: Hashable=None, sort_by: Hashable=None, axis=\"x\"):\n",
    "    # Nodes should be grouped and sorted before we begin assigning coordinates.\n",
    "    nt = group_and_sort(node_table=nt, group_by=group_by, sort_by=sort_by)\n",
    "    \n",
    "    # We are eventually going to return this pos dictionary.\n",
    "    pos = dict()\n",
    "    \n",
    "    # Loop over each of the rows, and assign x, y coordinates in order of them being grouped and sorted.\n",
    "    for i, (node, data) in enumerate(nt.iterrows()):\n",
    "        x = (i + 1) * 2\n",
    "        y = 0\n",
    "        \n",
    "        if axis == \"y\":\n",
    "            x, y = y, x\n",
    "        pos[node] = np.array([x, y])\n",
    "    return pos"
   ]
  },
  {
   "cell_type": "markdown",
   "id": "polyphonic-borough",
   "metadata": {},
   "source": [
    "Now that we have the positions implemented, let's see what they look like."
   ]
  },
  {
   "cell_type": "code",
   "execution_count": 5,
   "id": "minute-today",
   "metadata": {
    "execution": {
     "iopub.execute_input": "2021-03-25T18:23:01.855109Z",
     "iopub.status.busy": "2021-03-25T18:23:01.855013Z",
     "iopub.status.idle": "2021-03-25T18:23:01.891792Z",
     "shell.execute_reply": "2021-03-25T18:23:01.891446Z",
     "shell.execute_reply.started": "2021-03-25T18:23:01.855096Z"
    },
    "tags": []
   },
   "outputs": [],
   "source": [
    "from nxviz.utils import node_table\n",
    "from nxviz import layouts\n",
    "\n",
    "nt = node_table(G)\n",
    "pos_x = matrix_layout(nt, group_by=\"group\", sort_by=\"value\")\n",
    "pos_y = matrix_layout(nt, group_by=\"group\", sort_by=\"value\", axis=\"y\")"
   ]
  },
  {
   "cell_type": "code",
   "execution_count": 6,
   "id": "driving-vessel",
   "metadata": {
    "execution": {
     "iopub.execute_input": "2021-03-25T18:23:01.893918Z",
     "iopub.status.busy": "2021-03-25T18:23:01.893764Z",
     "iopub.status.idle": "2021-03-25T18:23:01.931622Z",
     "shell.execute_reply": "2021-03-25T18:23:01.931170Z",
     "shell.execute_reply.started": "2021-03-25T18:23:01.893904Z"
    },
    "tags": []
   },
   "outputs": [
    {
     "data": {
      "text/html": [
       "<div>\n",
       "<style scoped>\n",
       "    .dataframe tbody tr th:only-of-type {\n",
       "        vertical-align: middle;\n",
       "    }\n",
       "\n",
       "    .dataframe tbody tr th {\n",
       "        vertical-align: top;\n",
       "    }\n",
       "\n",
       "    .dataframe thead th {\n",
       "        text-align: right;\n",
       "    }\n",
       "</style>\n",
       "<table border=\"1\" class=\"dataframe\">\n",
       "  <thead>\n",
       "    <tr style=\"text-align: right;\">\n",
       "      <th></th>\n",
       "      <th>0</th>\n",
       "      <th>1</th>\n",
       "    </tr>\n",
       "  </thead>\n",
       "  <tbody>\n",
       "    <tr>\n",
       "      <th>3</th>\n",
       "      <td>2</td>\n",
       "      <td>0</td>\n",
       "    </tr>\n",
       "    <tr>\n",
       "      <th>0</th>\n",
       "      <td>4</td>\n",
       "      <td>0</td>\n",
       "    </tr>\n",
       "    <tr>\n",
       "      <th>12</th>\n",
       "      <td>6</td>\n",
       "      <td>0</td>\n",
       "    </tr>\n",
       "    <tr>\n",
       "      <th>9</th>\n",
       "      <td>8</td>\n",
       "      <td>0</td>\n",
       "    </tr>\n",
       "    <tr>\n",
       "      <th>10</th>\n",
       "      <td>10</td>\n",
       "      <td>0</td>\n",
       "    </tr>\n",
       "    <tr>\n",
       "      <th>14</th>\n",
       "      <td>12</td>\n",
       "      <td>0</td>\n",
       "    </tr>\n",
       "    <tr>\n",
       "      <th>6</th>\n",
       "      <td>14</td>\n",
       "      <td>0</td>\n",
       "    </tr>\n",
       "    <tr>\n",
       "      <th>2</th>\n",
       "      <td>16</td>\n",
       "      <td>0</td>\n",
       "    </tr>\n",
       "    <tr>\n",
       "      <th>16</th>\n",
       "      <td>18</td>\n",
       "      <td>0</td>\n",
       "    </tr>\n",
       "    <tr>\n",
       "      <th>19</th>\n",
       "      <td>20</td>\n",
       "      <td>0</td>\n",
       "    </tr>\n",
       "    <tr>\n",
       "      <th>17</th>\n",
       "      <td>22</td>\n",
       "      <td>0</td>\n",
       "    </tr>\n",
       "    <tr>\n",
       "      <th>5</th>\n",
       "      <td>24</td>\n",
       "      <td>0</td>\n",
       "    </tr>\n",
       "    <tr>\n",
       "      <th>1</th>\n",
       "      <td>26</td>\n",
       "      <td>0</td>\n",
       "    </tr>\n",
       "    <tr>\n",
       "      <th>7</th>\n",
       "      <td>28</td>\n",
       "      <td>0</td>\n",
       "    </tr>\n",
       "    <tr>\n",
       "      <th>13</th>\n",
       "      <td>30</td>\n",
       "      <td>0</td>\n",
       "    </tr>\n",
       "    <tr>\n",
       "      <th>18</th>\n",
       "      <td>32</td>\n",
       "      <td>0</td>\n",
       "    </tr>\n",
       "    <tr>\n",
       "      <th>4</th>\n",
       "      <td>34</td>\n",
       "      <td>0</td>\n",
       "    </tr>\n",
       "    <tr>\n",
       "      <th>8</th>\n",
       "      <td>36</td>\n",
       "      <td>0</td>\n",
       "    </tr>\n",
       "    <tr>\n",
       "      <th>15</th>\n",
       "      <td>38</td>\n",
       "      <td>0</td>\n",
       "    </tr>\n",
       "    <tr>\n",
       "      <th>11</th>\n",
       "      <td>40</td>\n",
       "      <td>0</td>\n",
       "    </tr>\n",
       "  </tbody>\n",
       "</table>\n",
       "</div>"
      ],
      "text/plain": [
       "     0  1\n",
       "3    2  0\n",
       "0    4  0\n",
       "12   6  0\n",
       "9    8  0\n",
       "10  10  0\n",
       "14  12  0\n",
       "6   14  0\n",
       "2   16  0\n",
       "16  18  0\n",
       "19  20  0\n",
       "17  22  0\n",
       "5   24  0\n",
       "1   26  0\n",
       "7   28  0\n",
       "13  30  0\n",
       "18  32  0\n",
       "4   34  0\n",
       "8   36  0\n",
       "15  38  0\n",
       "11  40  0"
      ]
     },
     "execution_count": 6,
     "metadata": {},
     "output_type": "execute_result"
    }
   ],
   "source": [
    "pd.DataFrame(pos_x).T"
   ]
  },
  {
   "cell_type": "code",
   "execution_count": 7,
   "id": "acknowledged-reader",
   "metadata": {
    "execution": {
     "iopub.execute_input": "2021-03-25T18:23:01.933343Z",
     "iopub.status.busy": "2021-03-25T18:23:01.933205Z",
     "iopub.status.idle": "2021-03-25T18:23:01.967892Z",
     "shell.execute_reply": "2021-03-25T18:23:01.967525Z",
     "shell.execute_reply.started": "2021-03-25T18:23:01.933330Z"
    },
    "tags": []
   },
   "outputs": [
    {
     "data": {
      "text/html": [
       "<div>\n",
       "<style scoped>\n",
       "    .dataframe tbody tr th:only-of-type {\n",
       "        vertical-align: middle;\n",
       "    }\n",
       "\n",
       "    .dataframe tbody tr th {\n",
       "        vertical-align: top;\n",
       "    }\n",
       "\n",
       "    .dataframe thead th {\n",
       "        text-align: right;\n",
       "    }\n",
       "</style>\n",
       "<table border=\"1\" class=\"dataframe\">\n",
       "  <thead>\n",
       "    <tr style=\"text-align: right;\">\n",
       "      <th></th>\n",
       "      <th>0</th>\n",
       "      <th>1</th>\n",
       "    </tr>\n",
       "  </thead>\n",
       "  <tbody>\n",
       "    <tr>\n",
       "      <th>3</th>\n",
       "      <td>0</td>\n",
       "      <td>2</td>\n",
       "    </tr>\n",
       "    <tr>\n",
       "      <th>0</th>\n",
       "      <td>0</td>\n",
       "      <td>4</td>\n",
       "    </tr>\n",
       "    <tr>\n",
       "      <th>12</th>\n",
       "      <td>0</td>\n",
       "      <td>6</td>\n",
       "    </tr>\n",
       "    <tr>\n",
       "      <th>9</th>\n",
       "      <td>0</td>\n",
       "      <td>8</td>\n",
       "    </tr>\n",
       "    <tr>\n",
       "      <th>10</th>\n",
       "      <td>0</td>\n",
       "      <td>10</td>\n",
       "    </tr>\n",
       "    <tr>\n",
       "      <th>14</th>\n",
       "      <td>0</td>\n",
       "      <td>12</td>\n",
       "    </tr>\n",
       "    <tr>\n",
       "      <th>6</th>\n",
       "      <td>0</td>\n",
       "      <td>14</td>\n",
       "    </tr>\n",
       "    <tr>\n",
       "      <th>2</th>\n",
       "      <td>0</td>\n",
       "      <td>16</td>\n",
       "    </tr>\n",
       "    <tr>\n",
       "      <th>16</th>\n",
       "      <td>0</td>\n",
       "      <td>18</td>\n",
       "    </tr>\n",
       "    <tr>\n",
       "      <th>19</th>\n",
       "      <td>0</td>\n",
       "      <td>20</td>\n",
       "    </tr>\n",
       "    <tr>\n",
       "      <th>17</th>\n",
       "      <td>0</td>\n",
       "      <td>22</td>\n",
       "    </tr>\n",
       "    <tr>\n",
       "      <th>5</th>\n",
       "      <td>0</td>\n",
       "      <td>24</td>\n",
       "    </tr>\n",
       "    <tr>\n",
       "      <th>1</th>\n",
       "      <td>0</td>\n",
       "      <td>26</td>\n",
       "    </tr>\n",
       "    <tr>\n",
       "      <th>7</th>\n",
       "      <td>0</td>\n",
       "      <td>28</td>\n",
       "    </tr>\n",
       "    <tr>\n",
       "      <th>13</th>\n",
       "      <td>0</td>\n",
       "      <td>30</td>\n",
       "    </tr>\n",
       "    <tr>\n",
       "      <th>18</th>\n",
       "      <td>0</td>\n",
       "      <td>32</td>\n",
       "    </tr>\n",
       "    <tr>\n",
       "      <th>4</th>\n",
       "      <td>0</td>\n",
       "      <td>34</td>\n",
       "    </tr>\n",
       "    <tr>\n",
       "      <th>8</th>\n",
       "      <td>0</td>\n",
       "      <td>36</td>\n",
       "    </tr>\n",
       "    <tr>\n",
       "      <th>15</th>\n",
       "      <td>0</td>\n",
       "      <td>38</td>\n",
       "    </tr>\n",
       "    <tr>\n",
       "      <th>11</th>\n",
       "      <td>0</td>\n",
       "      <td>40</td>\n",
       "    </tr>\n",
       "  </tbody>\n",
       "</table>\n",
       "</div>"
      ],
      "text/plain": [
       "    0   1\n",
       "3   0   2\n",
       "0   0   4\n",
       "12  0   6\n",
       "9   0   8\n",
       "10  0  10\n",
       "14  0  12\n",
       "6   0  14\n",
       "2   0  16\n",
       "16  0  18\n",
       "19  0  20\n",
       "17  0  22\n",
       "5   0  24\n",
       "1   0  26\n",
       "7   0  28\n",
       "13  0  30\n",
       "18  0  32\n",
       "4   0  34\n",
       "8   0  36\n",
       "15  0  38\n",
       "11  0  40"
      ]
     },
     "execution_count": 7,
     "metadata": {},
     "output_type": "execute_result"
    }
   ],
   "source": [
    "pd.DataFrame(pos_y).T"
   ]
  },
  {
   "cell_type": "markdown",
   "id": "varied-formation",
   "metadata": {},
   "source": [
    "Now, we can worry about the glyphs being drawn to screen.\n",
    "We will follow the logic for the mid-level API.\n",
    "There is a `draw` function that we can take advantage of\n",
    "to make it happen."
   ]
  },
  {
   "cell_type": "code",
   "execution_count": 8,
   "id": "enhanced-texas",
   "metadata": {
    "execution": {
     "iopub.execute_input": "2021-03-25T18:23:01.968824Z",
     "iopub.status.busy": "2021-03-25T18:23:01.968708Z",
     "iopub.status.idle": "2021-03-25T18:23:02.000914Z",
     "shell.execute_reply": "2021-03-25T18:23:01.999525Z",
     "shell.execute_reply.started": "2021-03-25T18:23:01.968811Z"
    },
    "tags": []
   },
   "outputs": [],
   "source": [
    "from nxviz import nodes\n",
    "from functools import partial"
   ]
  },
  {
   "cell_type": "code",
   "execution_count": 9,
   "id": "configured-attraction",
   "metadata": {
    "execution": {
     "iopub.execute_input": "2021-03-25T18:23:02.002562Z",
     "iopub.status.busy": "2021-03-25T18:23:02.002106Z",
     "iopub.status.idle": "2021-03-25T18:23:02.235623Z",
     "shell.execute_reply": "2021-03-25T18:23:02.234944Z",
     "shell.execute_reply.started": "2021-03-25T18:23:02.002532Z"
    },
    "tags": []
   },
   "outputs": [
    {
     "data": {
      "image/png": "[encoded data removed]",
      "text/plain": [
       "<Figure size 432x288 with 1 Axes>"
      ]
     },
     "metadata": {
      "image/png": {
       "height": 248,
       "width": 368
      },
      "needs_background": "light"
     },
     "output_type": "display_data"
    }
   ],
   "source": [
    "matrix = partial(nodes.draw, layout_func=matrix_layout, group_by=None, sort_by=None)\n",
    "pos_x = matrix(G)\n",
    "pos_y = matrix(G, layout_kwargs=dict(axis=\"y\"))\n"
   ]
  },
  {
   "cell_type": "markdown",
   "id": "contained-wages",
   "metadata": {},
   "source": [
    "Not bad! We're off to a good start.\n",
    "This looks ugly, but upon inspection, its' because the aspect ratio isn't that good.\n",
    "We can fix this."
   ]
  },
  {
   "cell_type": "code",
   "execution_count": 10,
   "id": "chemical-formula",
   "metadata": {
    "execution": {
     "iopub.execute_input": "2021-03-25T18:23:02.237227Z",
     "iopub.status.busy": "2021-03-25T18:23:02.237094Z",
     "iopub.status.idle": "2021-03-25T18:23:02.401947Z",
     "shell.execute_reply": "2021-03-25T18:23:02.401558Z",
     "shell.execute_reply.started": "2021-03-25T18:23:02.237213Z"
    },
    "tags": []
   },
   "outputs": [
    {
     "data": {
      "image/png": "[encoded data removed]",
      "text/plain": [
       "<Figure size 432x288 with 1 Axes>"
      ]
     },
     "metadata": {
      "image/png": {
       "height": 231,
       "width": 231
      },
      "needs_background": "light"
     },
     "output_type": "display_data"
    }
   ],
   "source": [
    "from nxviz.plots import despine, aspect_equal\n",
    "matrix = partial(nodes.draw, layout_func=matrix_layout, group_by=None, sort_by=None)\n",
    "pos_x = matrix(G)\n",
    "pos_y = matrix(G, layout_kwargs=dict(axis=\"y\"))\n",
    "\n",
    "aspect_equal()\n",
    "despine()"
   ]
  },
  {
   "cell_type": "markdown",
   "id": "improving-broadway",
   "metadata": {},
   "source": [
    "Now that's looking good! We have a square matrix, just as we expected."
   ]
  },
  {
   "cell_type": "markdown",
   "id": "regulation-nancy",
   "metadata": {},
   "source": [
    "## Drawing edges\n",
    "\n",
    "For edges, we could take advantage of hive plot's lines.\n",
    "That would make the chart look interesting...\n",
    "like one of those arts and crafts tapestries we might have made when we were younger."
   ]
  },
  {
   "cell_type": "code",
   "execution_count": 11,
   "id": "dimensional-chase",
   "metadata": {
    "execution": {
     "iopub.execute_input": "2021-03-25T18:23:02.402694Z",
     "iopub.status.busy": "2021-03-25T18:23:02.402587Z",
     "iopub.status.idle": "2021-03-25T18:23:02.611536Z",
     "shell.execute_reply": "2021-03-25T18:23:02.611201Z",
     "shell.execute_reply.started": "2021-03-25T18:23:02.402682Z"
    },
    "tags": []
   },
   "outputs": [
    {
     "data": {
      "image/png": "[encoded data removed]",
      "text/plain": [
       "<Figure size 432x288 with 1 Axes>"
      ]
     },
     "metadata": {
      "image/png": {
       "height": 248,
       "width": 368
      },
      "needs_background": "light"
     },
     "output_type": "display_data"
    }
   ],
   "source": [
    "from nxviz import edges\n",
    "matrix = partial(nodes.draw, layout_func=matrix_layout, group_by=None, sort_by=None)\n",
    "pos_x = matrix(G)\n",
    "pos_y = matrix(G, layout_kwargs=dict(axis=\"y\"))\n",
    "edges.hive(G, pos_x, pos_cloned=pos_y, curves=False)"
   ]
  },
  {
   "cell_type": "markdown",
   "id": "cognitive-protein",
   "metadata": {},
   "source": [
    "However, the spirit of a matrix plot is to fill in an `n-by-n` matrix.\n",
    "Thus, we should actually be using a custom implementation of edges\n",
    "that draws in a circle glyph where needed.\n",
    "\n",
    "The matrix \"lines\" function will follow the API of the functions in the `nxviz.lines` file.\n",
    "Lines are in quotes because we're not technically writing out lines. :)"
   ]
  },
  {
   "cell_type": "code",
   "execution_count": 12,
   "id": "outdoor-string",
   "metadata": {
    "execution": {
     "iopub.execute_input": "2021-03-25T18:23:02.612362Z",
     "iopub.status.busy": "2021-03-25T18:23:02.612197Z",
     "iopub.status.idle": "2021-03-25T18:23:03.152470Z",
     "shell.execute_reply": "2021-03-25T18:23:03.151783Z",
     "shell.execute_reply.started": "2021-03-25T18:23:02.612349Z"
    },
    "tags": []
   },
   "outputs": [
    {
     "ename": "TypeError",
     "evalue": "matrix() got an unexpected keyword argument 'pos_y'",
     "output_type": "error",
     "traceback": [
      "\u001b[0;31m---------------------------------------------------------------------------\u001b[0m",
      "\u001b[0;31mTypeError\u001b[0m                                 Traceback (most recent call last)",
      "\u001b[0;32m<ipython-input-12-a1a745e5eed8>\u001b[0m in \u001b[0;36m<module>\u001b[0;34m\u001b[0m\n\u001b[1;32m     44\u001b[0m \u001b[0mpos_x\u001b[0m \u001b[0;34m=\u001b[0m \u001b[0mmatrix\u001b[0m\u001b[0;34m(\u001b[0m\u001b[0mG\u001b[0m\u001b[0;34m,\u001b[0m \u001b[0mgroup_by\u001b[0m\u001b[0;34m=\u001b[0m\u001b[0;34m\"group\"\u001b[0m\u001b[0;34m,\u001b[0m \u001b[0mcolor_by\u001b[0m\u001b[0;34m=\u001b[0m\u001b[0;34m\"value\"\u001b[0m\u001b[0;34m,\u001b[0m \u001b[0msort_by\u001b[0m\u001b[0;34m=\u001b[0m\u001b[0;34m\"value\"\u001b[0m\u001b[0;34m)\u001b[0m\u001b[0;34m\u001b[0m\u001b[0;34m\u001b[0m\u001b[0m\n\u001b[1;32m     45\u001b[0m \u001b[0mpos_y\u001b[0m \u001b[0;34m=\u001b[0m \u001b[0mmatrix\u001b[0m\u001b[0;34m(\u001b[0m\u001b[0mG\u001b[0m\u001b[0;34m,\u001b[0m \u001b[0mgroup_by\u001b[0m\u001b[0;34m=\u001b[0m\u001b[0;34m\"group\"\u001b[0m\u001b[0;34m,\u001b[0m \u001b[0mcolor_by\u001b[0m\u001b[0;34m=\u001b[0m\u001b[0;34m\"value\"\u001b[0m\u001b[0;34m,\u001b[0m \u001b[0msort_by\u001b[0m\u001b[0;34m=\u001b[0m\u001b[0;34m\"value\"\u001b[0m\u001b[0;34m,\u001b[0m \u001b[0mlayout_kwargs\u001b[0m\u001b[0;34m=\u001b[0m\u001b[0mdict\u001b[0m\u001b[0;34m(\u001b[0m\u001b[0maxis\u001b[0m\u001b[0;34m=\u001b[0m\u001b[0;34m\"y\"\u001b[0m\u001b[0;34m)\u001b[0m\u001b[0;34m)\u001b[0m\u001b[0;34m\u001b[0m\u001b[0;34m\u001b[0m\u001b[0m\n\u001b[0;32m---> 46\u001b[0;31m \u001b[0medges\u001b[0m\u001b[0;34m.\u001b[0m\u001b[0mmatrix\u001b[0m\u001b[0;34m(\u001b[0m\u001b[0mG\u001b[0m\u001b[0;34m,\u001b[0m \u001b[0mpos_x\u001b[0m\u001b[0;34m,\u001b[0m \u001b[0mpos_y\u001b[0m\u001b[0;34m=\u001b[0m\u001b[0mpos_y\u001b[0m\u001b[0;34m,\u001b[0m \u001b[0malpha_by\u001b[0m\u001b[0;34m=\u001b[0m\u001b[0;34m\"edge_value\"\u001b[0m\u001b[0;34m,\u001b[0m \u001b[0mdirected\u001b[0m\u001b[0;34m=\u001b[0m\u001b[0;32mFalse\u001b[0m\u001b[0;34m)\u001b[0m\u001b[0;34m\u001b[0m\u001b[0;34m\u001b[0m\u001b[0m\n\u001b[0m\u001b[1;32m     47\u001b[0m \u001b[0;34m\u001b[0m\u001b[0m\n\u001b[1;32m     48\u001b[0m \u001b[0mdespine\u001b[0m\u001b[0;34m(\u001b[0m\u001b[0;34m)\u001b[0m\u001b[0;34m\u001b[0m\u001b[0;34m\u001b[0m\u001b[0m\n",
      "\u001b[0;32m~/github/software/nxviz/nxviz/edges.py\u001b[0m in \u001b[0;36mdraw\u001b[0;34m(G, pos, lines_func, color_by, lw_by, alpha_by, ax, aesthetics_kwargs, **linefunc_kwargs)\u001b[0m\n\u001b[1;32m    114\u001b[0m     \u001b[0maes_kw\u001b[0m \u001b[0;34m=\u001b[0m \u001b[0;34m{\u001b[0m\u001b[0;34m\"zorder\"\u001b[0m\u001b[0;34m:\u001b[0m \u001b[0;36m0\u001b[0m\u001b[0;34m,\u001b[0m \u001b[0;34m\"facecolor\"\u001b[0m\u001b[0;34m:\u001b[0m \u001b[0;34m\"none\"\u001b[0m\u001b[0;34m}\u001b[0m\u001b[0;34m\u001b[0m\u001b[0;34m\u001b[0m\u001b[0m\n\u001b[1;32m    115\u001b[0m     \u001b[0maes_kw\u001b[0m\u001b[0;34m.\u001b[0m\u001b[0mupdate\u001b[0m\u001b[0;34m(\u001b[0m\u001b[0maesthetics_kwargs\u001b[0m\u001b[0;34m)\u001b[0m\u001b[0;34m\u001b[0m\u001b[0;34m\u001b[0m\u001b[0m\n\u001b[0;32m--> 116\u001b[0;31m     patches = lines_func(\n\u001b[0m\u001b[1;32m    117\u001b[0m         \u001b[0met\u001b[0m\u001b[0;34m,\u001b[0m\u001b[0;34m\u001b[0m\u001b[0;34m\u001b[0m\u001b[0m\n\u001b[1;32m    118\u001b[0m         \u001b[0mpos\u001b[0m\u001b[0;34m,\u001b[0m\u001b[0;34m\u001b[0m\u001b[0;34m\u001b[0m\u001b[0m\n",
      "\u001b[0;31mTypeError\u001b[0m: matrix() got an unexpected keyword argument 'pos_y'"
     ]
    },
    {
     "data": {
      "image/png": "[encoded data removed]",
      "text/plain": [
       "<Figure size 288x288 with 1 Axes>"
      ]
     },
     "metadata": {
      "image/png": {
       "height": 248,
       "width": 257
      },
      "needs_background": "light"
     },
     "output_type": "display_data"
    }
   ],
   "source": [
    "from matplotlib.patches import Circle\n",
    "from typing import Iterable, Dict\n",
    "\n",
    "def matrix_lines(\n",
    "    et,\n",
    "    pos,\n",
    "    pos_y,\n",
    "    directed,\n",
    "    edge_color: Iterable,\n",
    "    alpha: Iterable,\n",
    "    lw: Iterable,\n",
    "    aes_kw: Dict,\n",
    "):\n",
    "    patches = []\n",
    "    for r, d in et.iterrows():\n",
    "        start = d[\"source\"]\n",
    "        end = d[\"target\"]\n",
    "        x_start, y_start = pos_y[start]\n",
    "        x_end, y_end = pos[end]\n",
    "        \n",
    "        x, y = (max(x_start, y_start), max(x_end, y_end))        \n",
    "        kw = {\n",
    "            \"fc\": edge_color[r],\n",
    "            \"alpha\": alpha[r],\n",
    "            \"radius\": lw[r],\n",
    "            \"zorder\": 10,\n",
    "        }\n",
    "        kw.update(aes_kw)\n",
    "        patch = Circle(xy=(x, y), **kw)\n",
    "        patches.append(patch)\n",
    "        \n",
    "        # In the mid-level API, we will need to explicitly set this.\n",
    "        # In the high-level API, it's automatically inferred.\n",
    "        if not directed:\n",
    "            patch = Circle(xy=(y, x), **kw)\n",
    "            patches.append(patch)\n",
    "    return patches\n",
    "\n",
    "matrix_edges = partial(edges.draw, lines_func=matrix_lines, aesthetics_kwargs={\"alpha_scale\": 10})\n",
    "\n",
    "import matplotlib.pyplot as plt\n",
    "\n",
    "fig, ax = plt.subplots(figsize=(4, 4))\n",
    "pos_x = matrix(G, group_by=\"group\", color_by=\"value\", sort_by=\"value\")\n",
    "pos_y = matrix(G, group_by=\"group\", color_by=\"value\", sort_by=\"value\", layout_kwargs=dict(axis=\"y\"))\n",
    "edges.matrix(G, pos_x, pos_y=pos_y, alpha_by=\"edge_value\", directed=False)\n",
    "\n",
    "despine()\n",
    "aspect_equal()"
   ]
  },
  {
   "cell_type": "markdown",
   "id": "homeless-borough",
   "metadata": {},
   "source": [
    "## Annotations\n",
    "\n",
    "We may wish to annotate the plot with additional information.\n",
    "For example, we might want to annotate the node values.\n",
    "This is doable using the same annotation tools available to us in nxviz."
   ]
  },
  {
   "cell_type": "markdown",
   "id": "quick-saturday",
   "metadata": {},
   "source": [
    "### Node color by group"
   ]
  },
  {
   "cell_type": "code",
   "execution_count": null,
   "id": "neither-colombia",
   "metadata": {
    "execution": {
     "iopub.status.busy": "2021-03-25T18:23:03.153070Z",
     "iopub.status.idle": "2021-03-25T18:23:03.153237Z",
     "shell.execute_reply": "2021-03-25T18:23:03.153150Z"
    },
    "tags": []
   },
   "outputs": [],
   "source": [
    "from nxviz import annotate\n",
    "\n",
    "fig, ax = plt.subplots(figsize=(4, 4))\n",
    "pos_x = matrix(G, group_by=\"group\", color_by=\"group\", sort_by=\"value\")\n",
    "pos_y = matrix(G, group_by=\"group\", color_by=\"group\", sort_by=\"value\", layout_kwargs=dict(axis=\"y\"))\n",
    "matrix_edges(G, pos_x, pos_y=pos_y, alpha_by=\"edge_value\", directed=False)\n",
    "\n",
    "# Gives us a colorbar next to the chart.\n",
    "annotate.node_colormapping(G, color_by=\"group\")\n",
    "\n",
    "despine()\n",
    "aspect_equal()"
   ]
  },
  {
   "cell_type": "markdown",
   "id": "honey-thing",
   "metadata": {},
   "source": [
    "### Node color by value"
   ]
  },
  {
   "cell_type": "code",
   "execution_count": null,
   "id": "chinese-surrey",
   "metadata": {
    "execution": {
     "iopub.status.busy": "2021-03-25T18:23:03.153781Z",
     "iopub.status.idle": "2021-03-25T18:23:03.153924Z",
     "shell.execute_reply": "2021-03-25T18:23:03.153845Z"
    },
    "tags": []
   },
   "outputs": [],
   "source": [
    "from nxviz import annotate\n",
    "\n",
    "fig, ax = plt.subplots(figsize=(4, 4))\n",
    "pos_x = matrix(G, group_by=\"group\", color_by=\"value\", sort_by=\"value\")\n",
    "pos_y = matrix(G, group_by=\"group\", color_by=\"value\", sort_by=\"value\", layout_kwargs=dict(axis=\"y\"))\n",
    "matrix_edges(G, pos_x, pos_y=pos_y, directed=False, aesthetics_kwargs={\"alpha_scale\": 5})\n",
    "\n",
    "# Gives us a colorbar next to the chart.\n",
    "annotate.node_colormapping(G, color_by=\"value\")\n",
    "\n",
    "despine()\n",
    "aspect_equal()"
   ]
  },
  {
   "cell_type": "markdown",
   "id": "aquatic-franklin",
   "metadata": {},
   "source": [
    "### Annotating group identity\n",
    "\n",
    "The group identities can also be annotated on the chart itself.\n",
    "Here's how the `matrix_group` annotation function is implemented."
   ]
  },
  {
   "cell_type": "code",
   "execution_count": null,
   "id": "characteristic-entity",
   "metadata": {
    "execution": {
     "iopub.status.busy": "2021-03-25T18:23:03.154465Z",
     "iopub.status.idle": "2021-03-25T18:23:03.154623Z",
     "shell.execute_reply": "2021-03-25T18:23:03.154541Z"
    },
    "tags": []
   },
   "outputs": [],
   "source": [
    "from nxviz.plots import respine\n",
    "\n",
    "def matrix_group(G, group_by, ax=None, offset=-3.0, xrotation=0, yrotation=0):\n",
    "    if ax is None:\n",
    "        ax = plt.gca()\n",
    "    nt = node_table(G)\n",
    "    group_sizes = nt.groupby(group_by).apply(lambda df: len(df))\n",
    "    proportions = group_sizes / group_sizes.sum()\n",
    "    midpoint = proportions / 2\n",
    "    starting_positions = proportions.cumsum() - proportions\n",
    "    label_positions = (starting_positions + midpoint) * len(G) * 2\n",
    "    label_positions += 1\n",
    "        \n",
    "    for label, position in label_positions.to_dict().items():\n",
    "        # Plot the x-axis labels\n",
    "        y = offset\n",
    "        x = position\n",
    "        ax.annotate(label, xy=(x, y), ha=\"center\", va=\"center\", rotation=0)\n",
    "        \n",
    "        # Plot the y-axis labels\n",
    "        x = offset\n",
    "        y = position\n",
    "        ax.annotate(label, xy=(x, y), ha=\"center\", va=\"center\", rotation=90)\n",
    "\n",
    "\n",
    "fig, ax = plt.subplots(figsize=(4, 4))\n",
    "pos_x = matrix(G, group_by=\"group\", color_by=\"group\", sort_by=\"value\")\n",
    "pos_y = matrix(G, group_by=\"group\", color_by=\"group\", sort_by=\"value\", layout_kwargs=dict(axis=\"y\"))\n",
    "matrix_edges(G, pos_x, pos_y=pos_y, alpha_by=\"edge_value\", directed=False)\n",
    "\n",
    "# Gives us a colorbar next to the chart.\n",
    "matrix_group(G, group_by=\"group\")\n",
    "\n",
    "despine()\n",
    "aspect_equal()\n"
   ]
  },
  {
   "cell_type": "markdown",
   "id": "labeled-departure",
   "metadata": {},
   "source": [
    "### Annotate matrix blocks\n",
    "\n",
    "We could also annotate the matrix blocks using the exact same logic.\n",
    "\n",
    "Matrix blocks are defined as the blocks of nodes in the same group,\n",
    "so this only applies to graphs for which the nodes can be grouped together."
   ]
  },
  {
   "cell_type": "code",
   "execution_count": null,
   "id": "comparative-discretion",
   "metadata": {
    "execution": {
     "iopub.status.busy": "2021-03-25T18:23:03.155197Z",
     "iopub.status.idle": "2021-03-25T18:23:03.155346Z",
     "shell.execute_reply": "2021-03-25T18:23:03.155267Z"
    },
    "tags": []
   },
   "outputs": [],
   "source": [
    "fig, ax = plt.subplots(figsize=(4, 4))\n",
    "pos_x = matrix(G, group_by=\"group\", color_by=\"group\", sort_by=\"value\")\n",
    "pos_y = matrix(G, group_by=\"group\", color_by=\"group\", sort_by=\"value\", layout_kwargs=dict(axis=\"y\"))\n",
    "matrix_edges(G, pos_x, pos_y=pos_y, alpha_by=\"edge_value\", directed=False)\n",
    "\n",
    "matrix_group(G, group_by=\"group\")\n",
    "\n",
    "respine()\n",
    "aspect_equal()\n",
    "\n",
    "##### FUNCTION STARTS\n",
    "\n",
    "from nxviz import utils, aesthetics as aes\n",
    "from matplotlib.patches import Rectangle\n",
    "\n",
    "nt = node_table(G)\n",
    "group_by = \"group\"\n",
    "color_by = \"group\"\n",
    "def matrix_block(G, group_by, color_by=None, ax=None):\n",
    "    \n",
    "    group_sizes = nt.groupby(group_by).apply(lambda df: len(df)) * 2\n",
    "    starting_positions = group_sizes.cumsum() + 1 - group_sizes\n",
    "    starting_positions\n",
    "\n",
    "    colors = pd.Series([\"black\"] * len(group_sizes), index=group_sizes.index)\n",
    "    if color_by:\n",
    "        color_data = pd.Series(group_sizes.index, index=group_sizes.index)\n",
    "        colors = aes.data_color(color_data)\n",
    "    # Generate patches first\n",
    "    patches = []\n",
    "    for label, position in starting_positions.to_dict().items():\n",
    "        xy = (position, position)\n",
    "        width = height = group_sizes[label]\n",
    "\n",
    "        patch = Rectangle(xy, width, height, zorder=0, alpha=.1, facecolor=colors[label])\n",
    "        patches.append(patch)\n",
    "        \n",
    "    if ax is None:\n",
    "        ax = plt.gca()\n",
    "    # Then add patches in.\n",
    "    for patch in patches:\n",
    "        ax.add_patch(patch)\n",
    "\n",
    "        \n",
    "matrix_block(G, group_by=group_by, color_by=color_by)\n",
    "##### FUNCTION ENDS\n",
    "despine()"
   ]
  },
  {
   "cell_type": "markdown",
   "id": "presidential-preliminary",
   "metadata": {},
   "source": [
    "## High level API\n",
    "\n",
    "Of course, in showing you how to implement a matrix plot from scratch,\n",
    "we took the code and shoved it into our high-level API.\n",
    "Here's a few examples of how it's used."
   ]
  },
  {
   "cell_type": "code",
   "execution_count": null,
   "id": "incoming-works",
   "metadata": {
    "execution": {
     "iopub.status.busy": "2021-03-25T18:23:03.156261Z",
     "iopub.status.idle": "2021-03-25T18:23:03.156637Z",
     "shell.execute_reply": "2021-03-25T18:23:03.156528Z"
    },
    "tags": []
   },
   "outputs": [],
   "source": [
    "import nxviz as nv\n",
    "\n",
    "ax = nv.matrix(G)"
   ]
  },
  {
   "cell_type": "code",
   "execution_count": null,
   "id": "small-church",
   "metadata": {
    "execution": {
     "iopub.status.busy": "2021-03-25T18:23:03.157751Z",
     "iopub.status.idle": "2021-03-25T18:23:03.157989Z",
     "shell.execute_reply": "2021-03-25T18:23:03.157841Z"
    },
    "tags": []
   },
   "outputs": [],
   "source": [
    "ax = nv.matrix(G, group_by=\"group\", node_color_by=\"group\", edge_alpha_by=\"edge_value\")\n",
    "annotate.matrix_block(G, group_by=\"group\")"
   ]
  },
  {
   "cell_type": "code",
   "execution_count": null,
   "id": "least-worker",
   "metadata": {},
   "outputs": [],
   "source": []
  }
 ],
 "metadata": {
  "kernelspec": {
   "display_name": "nxviz",
   "language": "python",
   "name": "nxviz"
  },
  "language_info": {
   "codemirror_mode": {
    "name": "ipython",
    "version": 3
   },
   "file_extension": ".py",
   "mimetype": "text/x-python",
   "name": "python",
   "nbconvert_exporter": "python",
   "pygments_lexer": "ipython3",
   "version": "3.9.2"
  }
 },
 "nbformat": 4,
 "nbformat_minor": 5
}
