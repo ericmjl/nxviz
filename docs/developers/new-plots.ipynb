{
 "cells": [
  {
   "cell_type": "markdown",
   "id": "metric-providence",
   "metadata": {},
   "source": [
    "# Implementing a new plot\n",
    "\n",
    "We'll show you how to implement a new plot using the nxviz's layered API.\n",
    "\n",
    "As an example, we'll show you how the design process works\n",
    "for the matrix plot."
   ]
  },
  {
   "cell_type": "code",
   "execution_count": null,
   "id": "raising-placement",
   "metadata": {},
   "outputs": [],
   "source": [
    "%config InlineBackend.figure_format = 'retina'\n",
    "%load_ext autoreload\n",
    "%autoreload 2"
   ]
  },
  {
   "cell_type": "markdown",
   "id": "violent-honduras",
   "metadata": {},
   "source": [
    "## Example graph\n",
    "\n",
    "As always, we'll need an example graph to anchor our notebook."
   ]
  },
  {
   "cell_type": "code",
   "execution_count": null,
   "id": "antique-french",
   "metadata": {
    "tags": []
   },
   "outputs": [],
   "source": [
    "from random import choice\n",
    "\n",
    "import networkx as nx\n",
    "import numpy as np\n",
    "\n",
    "G = nx.erdos_renyi_graph(n=20, p=0.1)\n",
    "for n, d in G.nodes(data=True):\n",
    "    G.nodes[n][\"group\"] = choice([\"a\", \"b\", \"c\"])\n",
    "    G.nodes[n][\"value\"] = np.random.exponential()\n",
    "\n",
    "np.random.seed(44)\n",
    "for u, v, d in G.edges(data=True):\n",
    "    G.edges[u, v][\"edge_value\"] = np.random.exponential()"
   ]
  },
  {
   "cell_type": "markdown",
   "id": "other-ukraine",
   "metadata": {},
   "source": [
    "## Implement node layout\n",
    "\n",
    "We first have to worry about how the nodes are placed.\n",
    "Therefore, we need a node layout function.\n",
    "\n",
    "All node layout functions accept the following arguments:\n",
    "\n",
    "- a node table `nt`,\n",
    "- the key to `group_by`\n",
    "- the key to `sort_by` (optionally)\n",
    "- any other relevant keyword arguments\n",
    "\n",
    "With the matrix plot layout,\n",
    "from thinking about how the nodes should be laid out,\n",
    "we will probably arrive at the conclusion\n",
    "that grouping and sorting are technically optional\n",
    "and not intrinsic to the layout.\n",
    "If that's not obvious at first glance,\n",
    "please think about it, you'll probably arrive at the same conclusion!\n",
    "\n",
    "They then return the x, y coordinates to place nodes on.\n",
    "\n",
    "The exact glyphs and their styles are out-of-bounds!\n",
    "Therefore, don't worry about them just yet."
   ]
  },
  {
   "cell_type": "code",
   "execution_count": null,
   "id": "intermediate-thanks",
   "metadata": {
    "tags": []
   },
   "outputs": [],
   "source": [
    "from typing import Hashable\n",
    "\n",
    "import pandas as pd\n",
    "\n",
    "from nxviz.utils import group_and_sort\n",
    "\n",
    "\n",
    "# Just the skeleton first!\n",
    "def matrix_layout(\n",
    "    nt: pd.DataFrame, group_by: Hashable = None, sort_by: Hashable = None\n",
    "):\n",
    "    nt = group_and_sort(nt=nt, group_by=group_by, sort_by=sort_by)"
   ]
  },
  {
   "cell_type": "markdown",
   "id": "lightweight-china",
   "metadata": {},
   "source": [
    "With a matrix plot, our goal is to place nodes along the x- and y-axis.\n",
    "It's a bit like the hive plot with cloned axes.\n",
    "\n",
    "See the code annotations for the logic."
   ]
  },
  {
   "cell_type": "code",
   "execution_count": null,
   "id": "similar-botswana",
   "metadata": {
    "tags": []
   },
   "outputs": [],
   "source": [
    "# Filling in the x,y positions dictionary.\n",
    "def matrix_layout(\n",
    "    nt: pd.DataFrame,\n",
    "    group_by: Hashable = None,\n",
    "    sort_by: Hashable = None,\n",
    "    axis=\"x\",\n",
    "):\n",
    "    # Nodes should be grouped and sorted before we begin assigning coordinates.\n",
    "    nt = group_and_sort(node_table=nt, group_by=group_by, sort_by=sort_by)\n",
    "\n",
    "    # We are eventually going to return this pos dictionary.\n",
    "    pos = dict()\n",
    "\n",
    "    # Loop over each of the rows, and assign x, y coordinates in order of them being grouped and sorted.\n",
    "    for i, (node, data) in enumerate(nt.iterrows()):\n",
    "        x = (i + 1) * 2\n",
    "        y = 0\n",
    "\n",
    "        if axis == \"y\":\n",
    "            x, y = y, x\n",
    "        pos[node] = np.array([x, y])\n",
    "    return pos"
   ]
  },
  {
   "cell_type": "markdown",
   "id": "latin-shoulder",
   "metadata": {},
   "source": [
    "Now that we have the positions implemented, let's see what they look like."
   ]
  },
  {
   "cell_type": "code",
   "execution_count": null,
   "id": "sustained-visitor",
   "metadata": {
    "tags": []
   },
   "outputs": [],
   "source": [
    "from nxviz import layouts\n",
    "from nxviz.utils import node_table\n",
    "\n",
    "nt = node_table(G)\n",
    "pos_x = matrix_layout(nt, group_by=\"group\", sort_by=\"value\")\n",
    "pos_y = matrix_layout(nt, group_by=\"group\", sort_by=\"value\", axis=\"y\")"
   ]
  },
  {
   "cell_type": "code",
   "execution_count": null,
   "id": "ranging-petroleum",
   "metadata": {
    "tags": []
   },
   "outputs": [],
   "source": [
    "pd.DataFrame(pos_x).T"
   ]
  },
  {
   "cell_type": "code",
   "execution_count": null,
   "id": "north-excerpt",
   "metadata": {
    "tags": []
   },
   "outputs": [],
   "source": [
    "pd.DataFrame(pos_y).T"
   ]
  },
  {
   "cell_type": "markdown",
   "id": "designing-baseline",
   "metadata": {},
   "source": [
    "Now, we can worry about the glyphs being drawn to screen.\n",
    "We will follow the logic for the mid-level API.\n",
    "There is a `draw` function that we can take advantage of\n",
    "to make it happen."
   ]
  },
  {
   "cell_type": "code",
   "execution_count": null,
   "id": "superb-missouri",
   "metadata": {
    "tags": []
   },
   "outputs": [],
   "source": [
    "from functools import partial\n",
    "\n",
    "from nxviz import nodes"
   ]
  },
  {
   "cell_type": "code",
   "execution_count": null,
   "id": "stretch-repeat",
   "metadata": {
    "tags": []
   },
   "outputs": [],
   "source": [
    "matrix = partial(\n",
    "    nodes.draw, layout_func=matrix_layout, group_by=None, sort_by=None\n",
    ")\n",
    "pos_x = matrix(G)\n",
    "pos_y = matrix(G, layout_kwargs=dict(axis=\"y\"))"
   ]
  },
  {
   "cell_type": "markdown",
   "id": "according-recognition",
   "metadata": {},
   "source": [
    "Not bad! We're off to a good start.\n",
    "This looks ugly, but upon inspection, its' because the aspect ratio isn't that good.\n",
    "We can fix this."
   ]
  },
  {
   "cell_type": "code",
   "execution_count": null,
   "id": "biblical-drink",
   "metadata": {
    "tags": []
   },
   "outputs": [],
   "source": [
    "from nxviz.plots import aspect_equal, despine\n",
    "\n",
    "matrix = partial(\n",
    "    nodes.draw, layout_func=matrix_layout, group_by=None, sort_by=None\n",
    ")\n",
    "pos_x = matrix(G)\n",
    "pos_y = matrix(G, layout_kwargs=dict(axis=\"y\"))\n",
    "\n",
    "aspect_equal()\n",
    "despine()"
   ]
  },
  {
   "cell_type": "markdown",
   "id": "signed-metro",
   "metadata": {},
   "source": [
    "Now that's looking good! We have a square matrix, just as we expected."
   ]
  },
  {
   "cell_type": "markdown",
   "id": "pleasant-texture",
   "metadata": {},
   "source": [
    "## Drawing edges\n",
    "\n",
    "For edges, we could take advantage of hive plot's lines.\n",
    "That would make the chart look interesting...\n",
    "like one of those arts and crafts tapestries we might have made when we were younger."
   ]
  },
  {
   "cell_type": "code",
   "execution_count": null,
   "id": "sought-crash",
   "metadata": {
    "tags": []
   },
   "outputs": [],
   "source": [
    "from nxviz import edges\n",
    "\n",
    "matrix = partial(\n",
    "    nodes.draw, layout_func=matrix_layout, group_by=None, sort_by=None\n",
    ")\n",
    "pos_x = matrix(G)\n",
    "pos_y = matrix(G, layout_kwargs=dict(axis=\"y\"))\n",
    "edges.hive(G, pos_x, pos_cloned=pos_y, curves=False)"
   ]
  },
  {
   "cell_type": "markdown",
   "id": "variable-muscle",
   "metadata": {},
   "source": [
    "However, the spirit of a matrix plot is to fill in an `n-by-n` matrix.\n",
    "Thus, we should actually be using a custom implementation of edges\n",
    "that draws in a circle glyph where needed.\n",
    "\n",
    "The matrix \"lines\" function will follow the API of the functions in the `nxviz.lines` file.\n",
    "Lines are in quotes because we're not technically writing out lines. :)"
   ]
  },
  {
   "cell_type": "code",
   "execution_count": null,
   "id": "arctic-affairs",
   "metadata": {
    "tags": []
   },
   "outputs": [],
   "source": [
    "from typing import Dict, Iterable\n",
    "\n",
    "from matplotlib.patches import Circle\n",
    "\n",
    "\n",
    "def matrix_lines(\n",
    "    et,\n",
    "    pos,\n",
    "    pos_cloned,\n",
    "    directed,\n",
    "    edge_color: Iterable,\n",
    "    alpha: Iterable,\n",
    "    lw: Iterable,\n",
    "    aes_kw: Dict,\n",
    "):\n",
    "    patches = []\n",
    "    for r, d in et.iterrows():\n",
    "        start = d[\"source\"]\n",
    "        end = d[\"target\"]\n",
    "        x_start, y_start = pos_y[start]\n",
    "        x_end, y_end = pos[end]\n",
    "\n",
    "        x, y = (max(x_start, y_start), max(x_end, y_end))\n",
    "        kw = {\n",
    "            \"fc\": edge_color[r],\n",
    "            \"alpha\": alpha[r],\n",
    "            \"radius\": lw[r],\n",
    "            \"zorder\": 10,\n",
    "        }\n",
    "        kw.update(aes_kw)\n",
    "        patch = Circle(xy=(x, y), **kw)\n",
    "        patches.append(patch)\n",
    "\n",
    "        # In the mid-level API, we will need to explicitly set this.\n",
    "        # In the high-level API, it's automatically inferred.\n",
    "        if not directed:\n",
    "            patch = Circle(xy=(y, x), **kw)\n",
    "            patches.append(patch)\n",
    "    return patches\n",
    "\n",
    "\n",
    "matrix_edges = partial(\n",
    "    edges.draw, lines_func=matrix_lines, aesthetics_kwargs={\"alpha_scale\": 10}\n",
    ")\n",
    "\n",
    "import matplotlib.pyplot as plt\n",
    "\n",
    "fig, ax = plt.subplots(figsize=(4, 4))\n",
    "pos_x = matrix(G, group_by=\"group\", color_by=\"value\", sort_by=\"value\")\n",
    "pos_y = matrix(\n",
    "    G,\n",
    "    group_by=\"group\",\n",
    "    color_by=\"value\",\n",
    "    sort_by=\"value\",\n",
    "    layout_kwargs=dict(axis=\"y\"),\n",
    ")\n",
    "edges.matrix(G, pos_x, pos_cloned=pos_y, alpha_by=\"edge_value\", directed=False)\n",
    "\n",
    "despine()\n",
    "aspect_equal()"
   ]
  },
  {
   "cell_type": "markdown",
   "id": "processed-interest",
   "metadata": {},
   "source": [
    "## Annotations\n",
    "\n",
    "We may wish to annotate the plot with additional information.\n",
    "For example, we might want to annotate the node values.\n",
    "This is doable using the same annotation tools available to us in nxviz."
   ]
  },
  {
   "cell_type": "markdown",
   "id": "macro-secret",
   "metadata": {},
   "source": [
    "### Node color by group"
   ]
  },
  {
   "cell_type": "code",
   "execution_count": null,
   "id": "proved-soldier",
   "metadata": {
    "tags": []
   },
   "outputs": [],
   "source": [
    "from nxviz import annotate\n",
    "\n",
    "fig, ax = plt.subplots(figsize=(4, 4))\n",
    "pos_x = matrix(G, group_by=\"group\", color_by=\"group\", sort_by=\"value\")\n",
    "pos_y = matrix(\n",
    "    G,\n",
    "    group_by=\"group\",\n",
    "    color_by=\"group\",\n",
    "    sort_by=\"value\",\n",
    "    layout_kwargs=dict(axis=\"y\"),\n",
    ")\n",
    "matrix_edges(G, pos_x, pos_cloned=pos_y, alpha_by=\"edge_value\", directed=False)\n",
    "\n",
    "# Gives us a colorbar next to the chart.\n",
    "annotate.node_colormapping(G, color_by=\"group\")\n",
    "\n",
    "despine()\n",
    "aspect_equal()"
   ]
  },
  {
   "cell_type": "markdown",
   "id": "helpful-chase",
   "metadata": {},
   "source": [
    "### Node color by value"
   ]
  },
  {
   "cell_type": "code",
   "execution_count": null,
   "id": "bored-museum",
   "metadata": {
    "tags": []
   },
   "outputs": [],
   "source": [
    "from nxviz import annotate\n",
    "\n",
    "fig, ax = plt.subplots(figsize=(4, 4))\n",
    "pos_x = matrix(G, group_by=\"group\", color_by=\"value\", sort_by=\"value\")\n",
    "pos_y = matrix(\n",
    "    G,\n",
    "    group_by=\"group\",\n",
    "    color_by=\"value\",\n",
    "    sort_by=\"value\",\n",
    "    layout_kwargs=dict(axis=\"y\"),\n",
    ")\n",
    "matrix_edges(\n",
    "    G, pos_x, pos_cloned=pos_y, directed=False, aesthetics_kwargs={\"alpha_scale\": 5}\n",
    ")\n",
    "\n",
    "# Gives us a colorbar next to the chart.\n",
    "annotate.node_colormapping(G, color_by=\"value\")\n",
    "\n",
    "despine()\n",
    "aspect_equal()"
   ]
  },
  {
   "cell_type": "markdown",
   "id": "persistent-drive",
   "metadata": {},
   "source": [
    "### Annotating group identity\n",
    "\n",
    "The group identities can also be annotated on the chart itself.\n",
    "Here's how the `matrix_group` annotation function is implemented."
   ]
  },
  {
   "cell_type": "code",
   "execution_count": null,
   "id": "saved-monitoring",
   "metadata": {
    "tags": []
   },
   "outputs": [],
   "source": [
    "from nxviz.plots import respine\n",
    "\n",
    "\n",
    "def matrix_group(G, group_by, ax=None, offset=-3.0, xrotation=0, yrotation=0):\n",
    "    if ax is None:\n",
    "        ax = plt.gca()\n",
    "    nt = node_table(G)\n",
    "    group_sizes = nt.groupby(group_by).apply(lambda df: len(df))\n",
    "    proportions = group_sizes / group_sizes.sum()\n",
    "    midpoint = proportions / 2\n",
    "    starting_positions = proportions.cumsum() - proportions\n",
    "    label_positions = (starting_positions + midpoint) * len(G) * 2\n",
    "    label_positions += 1\n",
    "\n",
    "    for label, position in label_positions.to_dict().items():\n",
    "        # Plot the x-axis labels\n",
    "        y = offset\n",
    "        x = position\n",
    "        ax.annotate(label, xy=(x, y), ha=\"center\", va=\"center\", rotation=0)\n",
    "\n",
    "        # Plot the y-axis labels\n",
    "        x = offset\n",
    "        y = position\n",
    "        ax.annotate(label, xy=(x, y), ha=\"center\", va=\"center\", rotation=90)\n",
    "\n",
    "\n",
    "fig, ax = plt.subplots(figsize=(4, 4))\n",
    "pos_x = matrix(G, group_by=\"group\", color_by=\"group\", sort_by=\"value\")\n",
    "pos_y = matrix(\n",
    "    G,\n",
    "    group_by=\"group\",\n",
    "    color_by=\"group\",\n",
    "    sort_by=\"value\",\n",
    "    layout_kwargs=dict(axis=\"y\"),\n",
    ")\n",
    "matrix_edges(G, pos_x, pos_cloned=pos_y, alpha_by=\"edge_value\", directed=False)\n",
    "\n",
    "# Gives us a colorbar next to the chart.\n",
    "matrix_group(G, group_by=\"group\")\n",
    "\n",
    "despine()\n",
    "aspect_equal()"
   ]
  },
  {
   "cell_type": "markdown",
   "id": "injured-mileage",
   "metadata": {},
   "source": [
    "### Annotate matrix blocks\n",
    "\n",
    "We could also annotate the matrix blocks using the exact same logic.\n",
    "\n",
    "Matrix blocks are defined as the blocks of nodes in the same group,\n",
    "so this only applies to graphs for which the nodes can be grouped together."
   ]
  },
  {
   "cell_type": "code",
   "execution_count": null,
   "id": "polish-progress",
   "metadata": {
    "tags": []
   },
   "outputs": [],
   "source": [
    "fig, ax = plt.subplots(figsize=(4, 4))\n",
    "pos_x = matrix(G, group_by=\"group\", color_by=\"group\", sort_by=\"value\")\n",
    "pos_y = matrix(\n",
    "    G,\n",
    "    group_by=\"group\",\n",
    "    color_by=\"group\",\n",
    "    sort_by=\"value\",\n",
    "    layout_kwargs=dict(axis=\"y\"),\n",
    ")\n",
    "matrix_edges(G, pos_x, pos_cloned=pos_y, alpha_by=\"edge_value\", directed=False)\n",
    "\n",
    "matrix_group(G, group_by=\"group\")\n",
    "\n",
    "respine()\n",
    "aspect_equal()\n",
    "\n",
    "##### FUNCTION STARTS\n",
    "\n",
    "from matplotlib.patches import Rectangle\n",
    "\n",
    "from nxviz import aesthetics as aes\n",
    "from nxviz import utils\n",
    "\n",
    "nt = node_table(G)\n",
    "group_by = \"group\"\n",
    "color_by = \"group\"\n",
    "\n",
    "\n",
    "def matrix_block(G, group_by, color_by=None, ax=None):\n",
    "\n",
    "    group_sizes = nt.groupby(group_by).apply(lambda df: len(df)) * 2\n",
    "    starting_positions = group_sizes.cumsum() + 1 - group_sizes\n",
    "    starting_positions\n",
    "\n",
    "    colors = pd.Series([\"black\"] * len(group_sizes), index=group_sizes.index)\n",
    "    if color_by:\n",
    "        color_data = pd.Series(group_sizes.index, index=group_sizes.index)\n",
    "        colors = aes.data_color(color_data)\n",
    "    # Generate patches first\n",
    "    patches = []\n",
    "    for label, position in starting_positions.to_dict().items():\n",
    "        xy = (position, position)\n",
    "        width = height = group_sizes[label]\n",
    "\n",
    "        patch = Rectangle(\n",
    "            xy, width, height, zorder=0, alpha=0.1, facecolor=colors[label]\n",
    "        )\n",
    "        patches.append(patch)\n",
    "\n",
    "    if ax is None:\n",
    "        ax = plt.gca()\n",
    "    # Then add patches in.\n",
    "    for patch in patches:\n",
    "        ax.add_patch(patch)\n",
    "\n",
    "\n",
    "matrix_block(G, group_by=group_by, color_by=color_by)\n",
    "##### FUNCTION ENDS\n",
    "despine()"
   ]
  },
  {
   "cell_type": "markdown",
   "id": "raised-custody",
   "metadata": {},
   "source": [
    "## High level API\n",
    "\n",
    "Of course, in showing you how to implement a matrix plot from scratch,\n",
    "we took the code and shoved it into our high-level API.\n",
    "Here's a few examples of how it's used."
   ]
  },
  {
   "cell_type": "code",
   "execution_count": null,
   "id": "italic-reception",
   "metadata": {
    "tags": []
   },
   "outputs": [],
   "source": [
    "import nxviz as nv\n",
    "\n",
    "ax = nv.matrix(G)"
   ]
  },
  {
   "cell_type": "code",
   "execution_count": null,
   "id": "banned-filter",
   "metadata": {
    "tags": []
   },
   "outputs": [],
   "source": [
    "ax = nv.matrix(\n",
    "    G, group_by=\"group\", node_color_by=\"group\", edge_alpha_by=\"edge_value\"\n",
    ")\n",
    "annotate.matrix_block(G, group_by=\"group\", color_by=\"group\")"
   ]
  }
 ],
 "metadata": {
  "kernelspec": {
   "display_name": "nxviz",
   "language": "python",
   "name": "nxviz"
  },
  "language_info": {
   "codemirror_mode": {
    "name": "ipython",
    "version": 3
   },
   "file_extension": ".py",
   "mimetype": "text/x-python",
   "name": "python",
   "nbconvert_exporter": "python",
   "pygments_lexer": "ipython3",
   "version": "3.9.2"
  }
 },
 "nbformat": 4,
 "nbformat_minor": 5
}
