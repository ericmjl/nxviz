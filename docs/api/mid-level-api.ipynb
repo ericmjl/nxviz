{
 "cells": [
  {
   "cell_type": "markdown",
   "id": "fiscal-winning",
   "metadata": {},
   "source": [
    "# Mid-Level API\n",
    "\n",
    "As a graph visualization package built on top of NetworkX,\n",
    "`nxviz`'s design is highly inspired by the grammar of graphics.\n",
    "In particular, we see network visualizations\n",
    "as being composed of two main components,\n",
    "which correspond to the two objects that comprise a graph:\n",
    "\n",
    "1. Nodes: their layout (position, grouping & ordering), and visual styling (color, size, and transparency).\n",
    "2. Edges: their visual styling (color, width, and transparency).\n",
    "\n",
    "In addition to these,\n",
    "we may choose to add annotations and highlights\n",
    "onto the network visualization,\n",
    "such as node and/or edge labels,\n",
    "particular nodes and/or edges being highlighted,\n",
    "color bars or legends, and more.\n",
    "\n",
    "As such, the low-level functional API is designed around these ideas.\n",
    "In this notebook, we would like to highlight\n",
    "how the low-level API can be used\n",
    "to compose beautiful network visualizations,\n",
    "as long as one structures one's thinking around these principles."
   ]
  },
  {
   "cell_type": "code",
   "execution_count": null,
   "id": "narrow-football",
   "metadata": {
    "tags": []
   },
   "outputs": [],
   "source": [
    "%load_ext autoreload\n",
    "%autoreload 2\n",
    "%config InlineBackend.figure_format = 'retina'"
   ]
  },
  {
   "cell_type": "markdown",
   "id": "essential-reason",
   "metadata": {},
   "source": [
    "## An example graph\n",
    "\n",
    "To illustrate, we will use the Karate Club Graph from NetworkX's library."
   ]
  },
  {
   "cell_type": "code",
   "execution_count": null,
   "id": "compliant-platinum",
   "metadata": {
    "tags": []
   },
   "outputs": [],
   "source": [
    "from random import choice\n",
    "\n",
    "import networkx as nx"
   ]
  },
  {
   "cell_type": "code",
   "execution_count": null,
   "id": "golden-jacket",
   "metadata": {
    "tags": []
   },
   "outputs": [],
   "source": [
    "import io\n",
    "import urllib.request as urllib\n",
    "import zipfile\n",
    "\n",
    "import matplotlib.pyplot as plt\n",
    "import networkx as nx\n",
    "\n",
    "url = \"http://www-personal.umich.edu/~mejn/netdata/football.zip\"\n",
    "\n",
    "sock = urllib.urlopen(url)  # open URL\n",
    "s = io.BytesIO(sock.read())  # read into BytesIO \"file\"\n",
    "sock.close()\n",
    "\n",
    "zf = zipfile.ZipFile(s)  # zipfile object\n",
    "txt = zf.read(\"football.txt\").decode()  # read info file\n",
    "gml = zf.read(\"football.gml\").decode()  # read gml data\n",
    "# throw away bogus first line with # from mejn files\n",
    "gml = gml.split(\"\\n\")[1:]\n",
    "G = nx.parse_gml(gml)  # parse gml data\n",
    "print(txt)\n",
    "\n",
    "mapping = dict(\n",
    "    {\n",
    "        0: \"Atlantic Coast\",\n",
    "        1: \"Big East\",\n",
    "        2: \"Big Ten\",\n",
    "        3: \"Big Twelve\",\n",
    "        4: \"Conference USA\",\n",
    "        5: \"Independents\",\n",
    "        6: \"Mid-American\",\n",
    "        7: \"Mountain West\",\n",
    "        8: \"Pacific Ten\",\n",
    "        9: \"Southeastern\",\n",
    "        10: \"Sun Belt\",\n",
    "        11: \"Western Athletic\",\n",
    "    }\n",
    ")\n",
    "for node, data in G.nodes(data=True):\n",
    "    G.nodes[node][\"conference\"] = mapping[data[\"value\"]]"
   ]
  },
  {
   "cell_type": "markdown",
   "id": "proprietary-naples",
   "metadata": {},
   "source": [
    "### Visualization using NetworkX's built-in facilities\n",
    "\n",
    "NetworkX does come with its own built-in visualization facilities.\n",
    "Let's see what visualizations we get."
   ]
  },
  {
   "cell_type": "code",
   "execution_count": null,
   "id": "productive-history",
   "metadata": {
    "tags": []
   },
   "outputs": [],
   "source": [
    "nx.draw(G)"
   ]
  },
  {
   "cell_type": "markdown",
   "id": "ready-exclusive",
   "metadata": {},
   "source": [
    "That looks a bit like a hairball. How can we make it look nicer?"
   ]
  },
  {
   "cell_type": "markdown",
   "id": "clean-newspaper",
   "metadata": {},
   "source": [
    "## Node Layout\n",
    "\n",
    "The first thing we should worry about is the node layout.\n",
    "This specifically refers to how nodes are positioned on the 2D plane.\n",
    "In a rational graph visualization,\n",
    "node placement should always take priority,\n",
    "as nodes represent entities with properties that we can grasp.\n",
    "\n",
    "The Circos plot layout lays out the nodes around the circumference of a circle.\n",
    "Hence, by stating up-front that we want a Circos layout,\n",
    "we take care of the first step of graph visualization,\n",
    "that is node placement.\n",
    "\n",
    "The `nodes` module provides a bunch of node drawing algorithms.\n",
    "They all take in the graph object `G` and return a position dictionary.\n",
    "That position dictionary is necessary for drawing edges, as we'll see in a moment."
   ]
  },
  {
   "cell_type": "code",
   "execution_count": null,
   "id": "ancient-mississippi",
   "metadata": {
    "tags": []
   },
   "outputs": [],
   "source": [
    "from nxviz import nodes\n",
    "\n",
    "pos = nodes.circos(G)"
   ]
  },
  {
   "cell_type": "markdown",
   "id": "cathedral-humor",
   "metadata": {},
   "source": [
    "Right now, it doesn't look like much - a blue donut, basically.\n",
    "That is because there are a bunch of circles of radius 1 (the default radius)\n",
    "that are overlapping with one another.\n",
    "To make things a bit more informative,\n",
    "we should probably group the nodes by their conference.\n",
    "\n",
    "Here is where nxviz's API becomes apparent.\n",
    "We can _refine_ the positioning of the nodes\n",
    "by specifying how to group them and sort them.\n",
    "This is accomplished by specifying\n",
    "the `group_by` and `sort_by` keyword arguments.\n",
    "Let's see the effect of specifying `group_by`:"
   ]
  },
  {
   "cell_type": "code",
   "execution_count": null,
   "id": "usual-suffering",
   "metadata": {
    "tags": []
   },
   "outputs": [],
   "source": [
    "pos = nodes.circos(G, group_by=\"conference\")"
   ]
  },
  {
   "cell_type": "markdown",
   "id": "champion-oracle",
   "metadata": {},
   "source": [
    "You might be wondering, why didn't that do anything?\n",
    "Actually, it did, but things are not yet visually apparent\n",
    "because we have only concerned ourselves with the _positions_ of the nodes\n",
    "and not the _visual properties_ of the nodes.\n",
    "The _visual properties_ of the node that can be mapped to data are\n",
    "the color, the transparency, and the node size.\n",
    "By default, node colors are blue,\n",
    "transparency (the alpha parameter in matplotlib) is 1,\n",
    "and node size is 1.\n",
    "Let's see how we can declare that we want our nodes to be coloured by conference\n",
    "while also being ordered by conference."
   ]
  },
  {
   "cell_type": "code",
   "execution_count": null,
   "id": "limiting-stanley",
   "metadata": {
    "tags": []
   },
   "outputs": [],
   "source": [
    "pos = nodes.circos(G, group_by=\"conference\", color_by=\"conference\")"
   ]
  },
  {
   "cell_type": "markdown",
   "id": "infrared-poverty",
   "metadata": {},
   "source": [
    "Things are starting to look promising!\n",
    "Though, if I were to comment on it, the plot is also still quite ugly.\n",
    "Let's start by applying a uniform scaling factor to all of the nodes\n",
    "to scale them to the size of the plot.\n",
    "(This is the `size_scale` encoding keyword argument that we'll be specifying below.)"
   ]
  },
  {
   "cell_type": "code",
   "execution_count": null,
   "id": "vanilla-programmer",
   "metadata": {
    "tags": []
   },
   "outputs": [],
   "source": [
    "pos = nodes.circos(G, group_by=\"conference\", color_by=\"conference\")"
   ]
  },
  {
   "cell_type": "markdown",
   "id": "dense-spending",
   "metadata": {},
   "source": [
    "The nodes look a bit more appropriately sized!\n",
    "The Circos plot still looks a bit squishy though.\n",
    "There's some _adjustments_ we need to do to the plot to make it look nice.\n",
    "We need to remove the spines and ticks to get rid of the boxiness effect.\n",
    "We also need to make the aspect ratio on the x- and y-axes equal.\n",
    "\n",
    "`despine()` will accomplish the first."
   ]
  },
  {
   "cell_type": "code",
   "execution_count": null,
   "id": "latin-vampire",
   "metadata": {
    "tags": []
   },
   "outputs": [],
   "source": [
    "from nxviz.plots import aspect_equal, despine\n",
    "\n",
    "pos = nodes.circos(G, group_by=\"conference\", color_by=\"conference\")\n",
    "despine()"
   ]
  },
  {
   "cell_type": "markdown",
   "id": "adequate-programming",
   "metadata": {},
   "source": [
    "Putting it together with `aspect_equal()` will get us to a good starting point."
   ]
  },
  {
   "cell_type": "code",
   "execution_count": null,
   "id": "future-composer",
   "metadata": {
    "tags": []
   },
   "outputs": [],
   "source": [
    "pos = nodes.circos(G, group_by=\"conference\", color_by=\"conference\")\n",
    "despine()\n",
    "aspect_equal()"
   ]
  },
  {
   "cell_type": "markdown",
   "id": "handled-manchester",
   "metadata": {},
   "source": [
    "_Voila!_\n",
    "With the nodes rationally laid out,\n",
    "we have an awesome starting point for adding in the edges.\n",
    "\n",
    "Edge drawing requires that we have the positions of the nodes available.\n",
    "That we obtain from the `nodes.circos` (or other node drawing) function.\n",
    "We can then pass it to any of the edge drawing functions.\n",
    "\n",
    "When drawing edges, because we are drawing relations and not entities,\n",
    "we are no longer concerned with grouping and sorting.\n",
    "Instead, we are concerned with only the visual properties of the lines.\n",
    "The ones that are most easily mappable to data are:\n",
    "\n",
    "1. Line width\n",
    "2. Transparency\n",
    "3. Line color\n",
    "\n",
    "The `edges.circos` function is the most logical here, so we'll kick off with that one."
   ]
  },
  {
   "cell_type": "code",
   "execution_count": null,
   "id": "arbitrary-convention",
   "metadata": {
    "tags": []
   },
   "outputs": [],
   "source": [
    "from nxviz import edges\n",
    "\n",
    "pos = nodes.circos(G, group_by=\"conference\", color_by=\"conference\")\n",
    "edges.circos(G, pos)\n",
    "\n",
    "despine()\n",
    "aspect_equal()"
   ]
  },
  {
   "cell_type": "markdown",
   "id": "superior-carnival",
   "metadata": {},
   "source": [
    "An alternative to drawing circos edges is to draw lines directly for each edge."
   ]
  },
  {
   "cell_type": "code",
   "execution_count": null,
   "id": "governmental-chorus",
   "metadata": {
    "tags": []
   },
   "outputs": [],
   "source": [
    "pos = nodes.circos(G, group_by=\"conference\", color_by=\"conference\")\n",
    "edges.line(G, pos)\n",
    "\n",
    "despine()\n",
    "aspect_equal()"
   ]
  },
  {
   "cell_type": "markdown",
   "id": "later-guess",
   "metadata": {},
   "source": [
    "Regardless of which edge drawing method we choose,\n",
    "the chart might not be sufficiently ready for our purposes, though.\n",
    "After all, we have no idea what groups map to which color.\n",
    "If we _annotate_ the _circos group_ onto the plot,\n",
    "it becomes much clearer which colors map to which group."
   ]
  },
  {
   "cell_type": "code",
   "execution_count": null,
   "id": "exclusive-filename",
   "metadata": {
    "tags": []
   },
   "outputs": [],
   "source": [
    "from nxviz import annotate\n",
    "\n",
    "pos = nodes.circos(G, group_by=\"conference\", color_by=\"conference\")\n",
    "edges.circos(G, pos)\n",
    "annotate.circos_group(G, group_by=\"conference\")\n",
    "\n",
    "despine()\n",
    "aspect_equal()"
   ]
  },
  {
   "cell_type": "markdown",
   "id": "superb-grenada",
   "metadata": {},
   "source": [
    "Now it is clear that there are quite a lot of within-conference edges,\n",
    "and only some cross-conference edges between teams."
   ]
  },
  {
   "cell_type": "markdown",
   "id": "special-sewing",
   "metadata": {},
   "source": [
    "## Other layouts"
   ]
  },
  {
   "cell_type": "markdown",
   "id": "seeing-emergency",
   "metadata": {},
   "source": [
    "### Arc layout"
   ]
  },
  {
   "cell_type": "code",
   "execution_count": null,
   "id": "fleet-wellington",
   "metadata": {
    "tags": []
   },
   "outputs": [],
   "source": [
    "pos = nodes.arc(G, group_by=\"conference\", color_by=\"conference\")\n",
    "edges.arc(G, pos)\n",
    "annotate.arc_group(G, group_by=\"conference\")\n",
    "\n",
    "despine()\n",
    "aspect_equal()"
   ]
  },
  {
   "cell_type": "markdown",
   "id": "typical-malawi",
   "metadata": {},
   "source": [
    "### Parallel coordinates layout"
   ]
  },
  {
   "cell_type": "code",
   "execution_count": null,
   "id": "disturbed-swedish",
   "metadata": {
    "tags": []
   },
   "outputs": [],
   "source": [
    "from nxviz import edges, nodes\n",
    "\n",
    "pos = nodes.parallel(G, group_by=\"conference\", color_by=\"conference\")\n",
    "edges.line(G, pos)\n",
    "annotate.parallel_group(G, group_by=\"conference\")\n",
    "despine()\n",
    "aspect_equal()"
   ]
  },
  {
   "cell_type": "markdown",
   "id": "according-provision",
   "metadata": {},
   "source": [
    "The parallel coordinates layout might not necessarily be the most informative for this graph dataset,\n",
    "but we still show it here just to give you a flavour for what is possible with it.\n",
    "It may be more suited to bipartite graphs,\n",
    "which explicitly do not allow for edges within a single group."
   ]
  },
  {
   "cell_type": "markdown",
   "id": "cognitive-christian",
   "metadata": {},
   "source": [
    "## Hive plot layout\n",
    "\n",
    "The hive plot is a bit special, in that it is suitable for only plotting a maximum of 3 groups.\n",
    "If we isolate nodes from just the Atlantic Coast, Independents, and Sun Belt,\n",
    "then we have a suitable way of plotting hive plots.\n",
    "\n",
    "Grouping is crucial to the Hive plot; we........\n",
    "\n",
    "Notice here that we take advantage of the `node_table` version of a graph's nodes,\n",
    "which is essentially a listing of all of the nodes and their properties.\n",
    "The node table works well for unipartite graphs,\n",
    "but needs to be modified for bipartite graphs."
   ]
  },
  {
   "cell_type": "code",
   "execution_count": null,
   "id": "recovered-michael",
   "metadata": {
    "tags": []
   },
   "outputs": [],
   "source": [
    "import numpy as np\n",
    "\n",
    "from nxviz import nodes\n",
    "from nxviz.utils import node_table\n",
    "\n",
    "conferences = [\"Atlantic Coast\", \"Independents\", \"Sun Belt\"]\n",
    "nt = node_table(G)\n",
    "wanted_nodes = nt.query(\"`conference` in @conferences\").index\n",
    "\n",
    "G_sub = G.subgraph(wanted_nodes)\n",
    "\n",
    "size_scale = 0.5\n",
    "# radius = 2\n",
    "pos = nodes.hive(G_sub, group_by=\"conference\", color_by=\"conference\")\n",
    "pos_cloned = nodes.hive(\n",
    "    G_sub,\n",
    "    group_by=\"conference\",\n",
    "    color_by=\"conference\",\n",
    "    layout_kwargs=dict(rotation=np.pi / 6),\n",
    ")\n",
    "edges.hive(G_sub, pos, pos_cloned=pos_cloned)\n",
    "annotate.node_colormapping(G_sub, color_by=\"conference\")\n",
    "despine()\n",
    "aspect_equal()"
   ]
  },
  {
   "cell_type": "markdown",
   "id": "anticipated-tyler",
   "metadata": {},
   "source": [
    "And here, we see an interesting pattern show up that might not have been visible earlier on:\n",
    "The Atlantic Coast teams have a lot of in-group edges than between-group edges,\n",
    "while the independents appear to have lots more between-group edges than in-group edges."
   ]
  },
  {
   "cell_type": "markdown",
   "id": "sized-professional",
   "metadata": {},
   "source": [
    "## Conclusions\n",
    "\n",
    "This notebook's intent is to show you how the mid-level API of `nxviz`\n",
    "expresses a thought framework for drawing networks in a rational fashion.\n",
    "We start with a particular layout (positions) for the nodes,\n",
    "deciding on their grouping and ordering.\n",
    "We then declare their size, color, and transparency,\n",
    "based on data attributes that are present on there.\n",
    "\n",
    "Next, we declare the way to draw edges.\n",
    "Each layout has its own particular idiomatic edge drawing method,\n",
    "and usually the easiest way to handle this is to use the corresponding edges function.\n",
    "\n",
    "APIs that live at a higher level of abstraction usually imply more restrictions,\n",
    "as the intent here is usually to trade off customizable details for simplicity.\n",
    "The mid-level API allows us to gain finer-grained control over plots while remaining declarative.\n",
    "Changing the colormap, in particular, is out of scope for the mid-level API.\n",
    "\n",
    "The highest level of the `nxviz` API is object-based\n",
    "and opinionatedly pairs certain node layouts with certain edge drawing functions,\n",
    "not allowing for any customization there.\n",
    "The lowest-level API is where one interacts with the lines, layouts, positions directly,\n",
    "exposing more direct interaction with `matplotlib`."
   ]
  }
 ],
 "metadata": {
  "kernelspec": {
   "display_name": "nxviz",
   "language": "python",
   "name": "nxviz"
  },
  "language_info": {
   "codemirror_mode": {
    "name": "ipython",
    "version": 3
   },
   "file_extension": ".py",
   "mimetype": "text/x-python",
   "name": "python",
   "nbconvert_exporter": "python",
   "pygments_lexer": "ipython3",
   "version": "3.9.2"
  }
 },
 "nbformat": 4,
 "nbformat_minor": 5
}
