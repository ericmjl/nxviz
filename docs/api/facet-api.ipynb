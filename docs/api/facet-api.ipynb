{
 "cells": [
  {
   "cell_type": "markdown",
   "id": "invalid-london",
   "metadata": {},
   "source": [
    "# Panels and Faceting\n",
    "\n",
    "In this notebook, we will introduce how to make graph visualization panels!"
   ]
  },
  {
   "cell_type": "code",
   "execution_count": null,
   "id": "senior-aruba",
   "metadata": {
    "tags": []
   },
   "outputs": [],
   "source": [
    "%config InlineBackend.figure_format = 'retina'\n",
    "%load_ext autoreload\n",
    "%autoreload 2"
   ]
  },
  {
   "cell_type": "code",
   "execution_count": null,
   "id": "alone-purpose",
   "metadata": {
    "tags": []
   },
   "outputs": [],
   "source": [
    "from random import choice\n",
    "\n",
    "import matplotlib.pyplot as plt\n",
    "import networkx as nx\n",
    "import numpy as np\n",
    "\n",
    "import nxviz as nv"
   ]
  },
  {
   "cell_type": "markdown",
   "id": "removable-shame",
   "metadata": {},
   "source": [
    "## Example graph\n",
    "\n",
    "Here's an example graph. It has both quantiative and qualitative data encoded on the nodes and edges."
   ]
  },
  {
   "cell_type": "code",
   "execution_count": null,
   "id": "french-scope",
   "metadata": {
    "tags": []
   },
   "outputs": [],
   "source": [
    "categories = \"abcdefghijk\"\n",
    "node_categories = \"12345\"\n",
    "\n",
    "G = nx.erdos_renyi_graph(n=70, p=0.1)\n",
    "for u, v in G.edges():\n",
    "    G.edges[u, v][\"group\"] = choice(categories)\n",
    "    G.edges[u, v][\"edge_val\"] = np.random.exponential()\n",
    "\n",
    "for n in G.nodes():\n",
    "    G.nodes[n][\"category\"] = choice(node_categories)\n",
    "    G.nodes[n][\"value\"] = np.random.normal()"
   ]
  },
  {
   "cell_type": "markdown",
   "id": "foster-skiing",
   "metadata": {},
   "source": [
    "## Non-panel'd version\n",
    "\n",
    "Let's see what happens if we just try to plot all nodes and all edges together."
   ]
  },
  {
   "cell_type": "code",
   "execution_count": null,
   "id": "informed-storage",
   "metadata": {
    "tags": []
   },
   "outputs": [],
   "source": [
    "nv.circos(\n",
    "    G,\n",
    "    group_by=\"category\",\n",
    "    node_color_by=\"category\",\n",
    "    edge_color_by=\"edge_val\",\n",
    "    edge_enc_kwargs={\"alpha_scale\": 5},\n",
    ")"
   ]
  },
  {
   "cell_type": "markdown",
   "id": "hairy-adapter",
   "metadata": {},
   "source": [
    "This isn't particularly useful.\n",
    "The edges are over-populated on the visualization.\n",
    "If there were structure in the graph that were interesting,\n",
    "we'd find it hard to elucidate.\n",
    "Here, we can rely on the principle of small multiples\n",
    "to design a more effective visualizations."
   ]
  },
  {
   "cell_type": "markdown",
   "id": "universal-draft",
   "metadata": {},
   "source": [
    "## `nxviz` faceting API\n",
    "\n",
    "Graph visualization panels are the solution here.\n",
    "We use categorical metadata on nodes or edges\n",
    "to facet our visualizations.\n",
    "(Faceting refers to creating subplots that contain a subset of the full dataset,\n",
    "so that one can optimize for visual clarity.)\n",
    "\n",
    "Because nodes are more easily arranged than edges,\n",
    "we can facet our graph out by edge categories into **panels**.\n",
    "As such, one subcategory of graph visualization panels\n",
    "is defined by a faceting of our graph by edge categories.\n",
    "Here are some examples."
   ]
  },
  {
   "cell_type": "code",
   "execution_count": null,
   "id": "continuing-rochester",
   "metadata": {
    "tags": []
   },
   "outputs": [],
   "source": [
    "from nxviz import annotate, facet\n",
    "\n",
    "# from nxviz import hive_panel, arc_panel, circos_panel\n",
    "from nxviz.utils import edge_table, node_table"
   ]
  },
  {
   "cell_type": "markdown",
   "id": "mounted-daughter",
   "metadata": {},
   "source": [
    "### Arc Panel"
   ]
  },
  {
   "cell_type": "code",
   "execution_count": null,
   "id": "improving-alert",
   "metadata": {
    "tags": []
   },
   "outputs": [],
   "source": [
    "facet.arc_panel(\n",
    "    G,\n",
    "    edge_group_by=\"group\",\n",
    "    node_group_by=\"category\",\n",
    "    node_color_by=\"category\",\n",
    "    edge_color_by=\"edge_val\",\n",
    ")"
   ]
  },
  {
   "cell_type": "markdown",
   "id": "christian-simon",
   "metadata": {},
   "source": [
    "### Circos Panel"
   ]
  },
  {
   "cell_type": "code",
   "execution_count": null,
   "id": "neutral-concentrate",
   "metadata": {
    "tags": []
   },
   "outputs": [],
   "source": [
    "facet.circos_panel(\n",
    "    G,\n",
    "    edge_group_by=\"group\",\n",
    "    node_group_by=\"category\",\n",
    "    node_color_by=\"category\",\n",
    "    edge_color_by=\"edge_val\",\n",
    ")"
   ]
  },
  {
   "cell_type": "markdown",
   "id": "silver-buyer",
   "metadata": {},
   "source": [
    "### Matrix Panel"
   ]
  },
  {
   "cell_type": "code",
   "execution_count": null,
   "id": "plastic-worcester",
   "metadata": {},
   "outputs": [],
   "source": [
    "facet.matrix_panel(\n",
    "    G,\n",
    "    edge_group_by=\"group\",\n",
    "    node_group_by=\"category\",\n",
    "    node_color_by=\"category\",\n",
    "    edge_color_by=\"edge_val\",\n",
    ")"
   ]
  },
  {
   "cell_type": "markdown",
   "id": "closing-linux",
   "metadata": {},
   "source": [
    "### Hive Panel\n",
    "\n",
    "Hive panels are a special type of panel.\n",
    "Because hive plots alone can plot either 2 or 3 categories of nodes,\n",
    "it can't handle situations where there are more than 3 categories of nodes.\n",
    "Here is where a panel of hive plots comes in:\n",
    "each plot in the panel handles 3 of the categories that are present.\n",
    "As such, you will have ${K}\\choose{3}$ plots to plot.\n",
    "For this reason, we don't recommend having more than 6 categories,\n",
    "otherwise you'll end up with a lot of plots to look at.\n"
   ]
  },
  {
   "cell_type": "code",
   "execution_count": null,
   "id": "common-rocket",
   "metadata": {
    "tags": []
   },
   "outputs": [],
   "source": [
    "facet.hive_panel(G, node_group_by=\"category\", node_color_by=\"category\")"
   ]
  },
  {
   "cell_type": "markdown",
   "id": "compliant-smart",
   "metadata": {},
   "source": [
    "## Custom panels\n",
    "\n",
    "While there are plot-specific faceting APIs,\n",
    "you can use the building blocks in there to compose your own.\n",
    "\n",
    "In this example, \n",
    "we'll show you how to create a facet where we show\n",
    "only edges that are associated with a particular group of nodes.\n",
    "For this, the key function to use is `node_group_edges`,\n",
    "which yields graphs that contains edges attached to a particular group,\n",
    "as well as the group itself."
   ]
  },
  {
   "cell_type": "code",
   "execution_count": null,
   "id": "motivated-cassette",
   "metadata": {
    "tags": []
   },
   "outputs": [],
   "source": [
    "import inspect\n",
    "\n",
    "from nxviz.facet import n_rows_cols, node_group_edges\n",
    "\n",
    "print(inspect.getsource(node_group_edges))"
   ]
  },
  {
   "cell_type": "code",
   "execution_count": null,
   "id": "assumed-government",
   "metadata": {
    "tags": []
   },
   "outputs": [],
   "source": [
    "node_group_by = \"category\"\n",
    "\n",
    "graphs, groups = zip(*node_group_edges(G, node_group_by))\n",
    "nrows, ncols = n_rows_cols(groups)\n",
    "fig, axes = plt.subplots(figsize=(8, 8), nrows=3, ncols=3)\n",
    "axes = list(axes.flatten())\n",
    "\n",
    "for ax, G_sub, group in zip(axes, graphs, groups):\n",
    "    plt.sca(ax)\n",
    "    nv.circos(\n",
    "        G_sub, group_by=\"category\", sort_by=\"value\", node_color_by=\"category\"\n",
    "    )\n",
    "    annotate.circos_group(G_sub, group_by=\"category\")\n",
    "    ax.set_title(f\"node group = {group}\")\n",
    "\n",
    "\n",
    "i = axes.index(ax)\n",
    "for ax in axes[i + 1 :]:\n",
    "    fig.delaxes(ax)\n",
    "\n",
    "plt.tight_layout()"
   ]
  },
  {
   "cell_type": "markdown",
   "id": "beneficial-antarctica",
   "metadata": {},
   "source": [
    "## Development pattern\n",
    "\n",
    "The core of faceting in nxviz is to return an iterator of graphs\n",
    "that contain either\n",
    "\n",
    "1. a subset of nodes,\n",
    "2. a subset of edges,\n",
    "3. or a subset of nodes and edges.\n",
    "\n",
    "Using one of the faceting functions as an example to illustrate:"
   ]
  },
  {
   "cell_type": "code",
   "execution_count": null,
   "id": "bigger-middle",
   "metadata": {
    "tags": []
   },
   "outputs": [],
   "source": [
    "import inspect\n",
    "\n",
    "print(inspect.getsource(facet.edge_group))"
   ]
  },
  {
   "cell_type": "markdown",
   "id": "naval-retro",
   "metadata": {},
   "source": [
    "The pattern is essentially to identify the exact groups that exist,\n",
    "iterate over these groups,\n",
    "and yield a graph that contains any one of the aforementioned three subsets\n",
    "alongside the group.\n",
    "That function pattern makes faceting consistent."
   ]
  }
 ],
 "metadata": {
  "kernelspec": {
   "display_name": "nxviz",
   "language": "python",
   "name": "nxviz"
  },
  "language_info": {
   "codemirror_mode": {
    "name": "ipython",
    "version": 3
   },
   "file_extension": ".py",
   "mimetype": "text/x-python",
   "name": "python",
   "nbconvert_exporter": "python",
   "pygments_lexer": "ipython3",
   "version": "3.9.2"
  }
 },
 "nbformat": 4,
 "nbformat_minor": 5
}
