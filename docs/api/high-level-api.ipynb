{
 "cells": [
  {
   "cell_type": "markdown",
   "id": "physical-christian",
   "metadata": {},
   "source": [
    "# High Level API\n",
    "\n",
    "In this notebook, we will walk through the high level nxviz API.\n",
    "\n",
    "The intent here is to provide a convenient (albeit restrictive) way\n",
    "to build graph visualizations for exploratory analysis purposes.\n",
    "Our goal is to help you declaratively visualize a network\n",
    "using one of the rational visualizations provided.\n",
    "The design is intentionally quite restrictive;\n",
    "customizations are limited to what you can compose together.\n",
    "\n",
    "You should treat these the way you would use the plotting package `seaborn`:\n",
    "to get you a quick overview of your data\n",
    "without being bogged down by the details of how things are placed on the screen.\n",
    "If you want finer-grained control,\n",
    "then you may wish to drop down to the mid-level or low-level API instead."
   ]
  },
  {
   "cell_type": "markdown",
   "id": "comparable-recorder",
   "metadata": {},
   "source": [
    "## How to read this notebook\n",
    "\n",
    "Treat this notebook as a gallery of examples.\n",
    "As with all declarative APIs, it's important to know the structure of the graph.\n",
    "We're showing you the exact source code for graph construction,\n",
    "and the graph's corresponding node and edge tables,\n",
    "to make things easier to read."
   ]
  },
  {
   "cell_type": "code",
   "execution_count": null,
   "id": "younger-retreat",
   "metadata": {
    "tags": []
   },
   "outputs": [],
   "source": [
    "%config InlineBackend.figure_format = 'retina'\n",
    "%load_ext autoreload\n",
    "%autoreload 2"
   ]
  },
  {
   "cell_type": "code",
   "execution_count": null,
   "id": "thermal-tradition",
   "metadata": {
    "tags": []
   },
   "outputs": [],
   "source": [
    "from random import choice\n",
    "\n",
    "import matplotlib.pyplot as plt\n",
    "import networkx as nx\n",
    "import numpy as np\n",
    "\n",
    "import nxviz as nv\n",
    "from nxviz import annotate\n",
    "from nxviz.plots import despine, rescale, respine"
   ]
  },
  {
   "cell_type": "markdown",
   "id": "separate-measurement",
   "metadata": {},
   "source": [
    "## Example Graph\n",
    "\n",
    "We're going to use an example graph, the erdos-renyi graph,\n",
    "to illustrate."
   ]
  },
  {
   "cell_type": "markdown",
   "id": "assumed-cargo",
   "metadata": {},
   "source": [
    "### Source code\n"
   ]
  },
  {
   "cell_type": "code",
   "execution_count": null,
   "id": "interior-niger",
   "metadata": {
    "tags": []
   },
   "outputs": [],
   "source": [
    "G = nx.erdos_renyi_graph(n=71, p=0.1)\n",
    "for n, d in G.nodes(data=True):\n",
    "    G.nodes[n][\"group\"] = choice([\"a\", \"b\", \"c\"])\n",
    "    G.nodes[n][\"value\"] = np.random.exponential()\n",
    "\n",
    "np.random.seed(44)\n",
    "for u, v, d in G.edges(data=True):\n",
    "    G.edges[u, v][\"edge_value\"] = np.random.exponential()"
   ]
  },
  {
   "cell_type": "markdown",
   "id": "eleven-string",
   "metadata": {},
   "source": [
    "### Node table"
   ]
  },
  {
   "cell_type": "code",
   "execution_count": null,
   "id": "sound-commercial",
   "metadata": {},
   "outputs": [],
   "source": [
    "from nxviz.utils import edge_table, node_table\n",
    "\n",
    "node_table(G)"
   ]
  },
  {
   "cell_type": "code",
   "execution_count": null,
   "id": "disciplinary-minute",
   "metadata": {},
   "outputs": [],
   "source": [
    "edge_table(G)"
   ]
  },
  {
   "cell_type": "markdown",
   "id": "played-employer",
   "metadata": {},
   "source": [
    "## Hive Plot\n",
    "\n",
    "Here's a Hive Plot view of the graph.\n",
    "\n",
    "The Hive plot is appropriate here,\n",
    "because we have one categorical variables with three values\n",
    "by which we can group our nodes.\n",
    "\n",
    "Here's one example where we group the nodes by their `group` attribute,\n",
    "sort and colour them by their `value` attribute,\n",
    "and set the transparency of an aged based on the edge's `edge_value` attribute.\n",
    "We also annotate the grouping on the hive plot."
   ]
  },
  {
   "cell_type": "code",
   "execution_count": null,
   "id": "interim-spell",
   "metadata": {
    "tags": []
   },
   "outputs": [],
   "source": [
    "ax = nv.hive(\n",
    "    G,\n",
    "    group_by=\"group\",\n",
    "    sort_by=\"value\",\n",
    "    node_color_by=\"value\",\n",
    "    edge_alpha_by=\"edge_value\",\n",
    ")\n",
    "annotate.hive_group(G, group_by=\"group\", offset=np.pi / 12)"
   ]
  },
  {
   "cell_type": "markdown",
   "id": "focal-graham",
   "metadata": {},
   "source": [
    "Here's an alternative visualization where\n",
    "we group and colour the nodes by their `group` attribute,\n",
    "ignoring the `value` attribute on the nodes\n",
    "and the `edge_value` attribute on the edges."
   ]
  },
  {
   "cell_type": "code",
   "execution_count": null,
   "id": "distinguished-fusion",
   "metadata": {
    "tags": []
   },
   "outputs": [],
   "source": [
    "ax = nv.hive(G, group_by=\"group\", node_color_by=\"group\")\n",
    "annotate.hive_group(G, group_by=\"group\", radius=6)"
   ]
  },
  {
   "cell_type": "markdown",
   "id": "religious-independence",
   "metadata": {},
   "source": [
    "The same consistent API applies to the other plot types."
   ]
  },
  {
   "cell_type": "markdown",
   "id": "concrete-inspection",
   "metadata": {},
   "source": [
    "## Arc Plot"
   ]
  },
  {
   "cell_type": "code",
   "execution_count": null,
   "id": "harmful-detective",
   "metadata": {
    "tags": []
   },
   "outputs": [],
   "source": [
    "ax = nv.arc(\n",
    "    G, group_by=\"group\", node_color_by=\"group\", edge_alpha_by=\"edge_value\"\n",
    ")\n",
    "annotate.arc_group(G, group_by=\"group\", ha=\"center\", rotation=0)"
   ]
  },
  {
   "cell_type": "markdown",
   "id": "finished-canvas",
   "metadata": {},
   "source": [
    "## Circos Plot"
   ]
  },
  {
   "cell_type": "code",
   "execution_count": null,
   "id": "proved-delaware",
   "metadata": {
    "tags": []
   },
   "outputs": [],
   "source": [
    "ax = nv.circos(\n",
    "    G, group_by=\"group\", node_color_by=\"group\", edge_alpha_by=\"edge_value\"\n",
    ")\n",
    "annotate.circos_group(G, group_by=\"group\")"
   ]
  },
  {
   "cell_type": "markdown",
   "id": "virtual-manchester",
   "metadata": {},
   "source": [
    "## Matrix Plot"
   ]
  },
  {
   "cell_type": "code",
   "execution_count": null,
   "id": "stopped-sponsorship",
   "metadata": {
    "tags": []
   },
   "outputs": [],
   "source": [
    "ax = nv.matrix(\n",
    "    G, group_by=\"group\", node_color_by=\"group\", edge_alpha_by=\"edge_value\"\n",
    ")\n",
    "annotate.matrix_group(G, group_by=\"group\")\n",
    "annotate.matrix_block(G, group_by=\"group\", color_by=\"group\", alpha=0.1)"
   ]
  },
  {
   "cell_type": "code",
   "execution_count": null,
   "id": "technological-preserve",
   "metadata": {},
   "outputs": [],
   "source": []
  }
 ],
 "metadata": {
  "kernelspec": {
   "display_name": "nxviz",
   "language": "python",
   "name": "nxviz"
  },
  "language_info": {
   "codemirror_mode": {
    "name": "ipython",
    "version": 3
   },
   "file_extension": ".py",
   "mimetype": "text/x-python",
   "name": "python",
   "nbconvert_exporter": "python",
   "pygments_lexer": "ipython3",
   "version": "3.9.2"
  }
 },
 "nbformat": 4,
 "nbformat_minor": 5
}
