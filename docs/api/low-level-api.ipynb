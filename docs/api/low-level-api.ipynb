{
 "cells": [
  {
   "cell_type": "markdown",
   "id": "molecular-letters",
   "metadata": {},
   "source": [
    "# Low-level API\n",
    "\n",
    "The `nxviz` low level API is one that provides the most flexibility for constructing rational graph visualizations.\n",
    "\n",
    "As always, with rational graph visualizations,\n",
    "there is a process involved that helps us compose together beautiful visualizations.\n",
    "We first concern ourselves with the node placement\n",
    "using the layout functions.\n",
    "Then, we concern ourselves with data-driven visual styling of the nodes.\n",
    "After that, we figure out how to draw edges (whether as lines or bezier curves)\n",
    "and style them according to data."
   ]
  },
  {
   "cell_type": "code",
   "execution_count": null,
   "id": "beginning-supplement",
   "metadata": {},
   "outputs": [],
   "source": [
    "%config InlineBackend.figure_format = 'retina'\n",
    "%load_ext autoreload\n",
    "%autoreload 2"
   ]
  },
  {
   "cell_type": "markdown",
   "id": "joined-james",
   "metadata": {},
   "source": [
    "## Example\n",
    "\n",
    "As an example, let's see how we make can make customizations to the Circos plot by using the low-level API.\n",
    "\n",
    "For some of these things, we might be able to accomplish them using the higher level API,\n",
    "but we will intentionally show the low-level way of handling these customizations\n",
    "so that you can have a feel for how you can implement low-level customizations."
   ]
  },
  {
   "cell_type": "code",
   "execution_count": null,
   "id": "blank-criterion",
   "metadata": {
    "tags": []
   },
   "outputs": [],
   "source": [
    "from random import choice\n",
    "\n",
    "import networkx as nx\n",
    "import numpy as np\n",
    "\n",
    "G = nx.erdos_renyi_graph(n=71, p=0.1)\n",
    "for n, d in G.nodes(data=True):\n",
    "    G.nodes[n][\"group\"] = choice([\"a\", \"b\", \"c\"])\n",
    "    G.nodes[n][\"value\"] = np.random.exponential()\n",
    "\n",
    "np.random.seed(44)\n",
    "for u, v, d in G.edges(data=True):\n",
    "    G.edges[u, v][\"edge_value\"] = np.random.exponential()"
   ]
  },
  {
   "cell_type": "markdown",
   "id": "restricted-terminology",
   "metadata": {},
   "source": [
    "## Node and Edge Table\n",
    "\n",
    "The node and edge tables are the low-level data structures that are used in creating network visualizations.\n",
    "These are pandas DataFrames."
   ]
  },
  {
   "cell_type": "code",
   "execution_count": null,
   "id": "operating-movie",
   "metadata": {},
   "outputs": [],
   "source": [
    "from nxviz import utils\n",
    "\n",
    "nt = utils.node_table(G)\n",
    "nt.head()"
   ]
  },
  {
   "cell_type": "markdown",
   "id": "organic-anniversary",
   "metadata": {},
   "source": [
    "The node table is indexed by node ID, and all of the metadata attributes are stored as columns."
   ]
  },
  {
   "cell_type": "code",
   "execution_count": null,
   "id": "applicable-retention",
   "metadata": {},
   "outputs": [],
   "source": [
    "et = utils.edge_table(G)\n",
    "et.head()"
   ]
  },
  {
   "cell_type": "markdown",
   "id": "historical-aerospace",
   "metadata": {},
   "source": [
    "For the edge table, the \"source\" and \"target\" columns are the node IDs in the node table.\n",
    "Every other column is a metadata field.\n",
    "The index carries no semantic meaning here."
   ]
  },
  {
   "cell_type": "markdown",
   "id": "rotary-stage",
   "metadata": {},
   "source": [
    "## Circos layout\n",
    "\n",
    "Following the principles of rational graph visualization,\n",
    "we start by declaring the layout that we want.\n",
    "Since in our example we'll be using the Circos plot layout,\n",
    "let's start by obtaining the (x, y) coordinate positions of each node that we want to plot.\n",
    "\n",
    "The `nxviz.layouts` module contains the circos plot layout function that we'll want.\n",
    "Underneath the hood, it uses pandas' group-by and sorting functionality\n",
    "to get nodes into the correct order that we want.\n",
    "If you wish to group and sort in a customized fashion,\n",
    "then you'll have to implement the functionality yourself."
   ]
  },
  {
   "cell_type": "code",
   "execution_count": null,
   "id": "curious-rebound",
   "metadata": {
    "tags": []
   },
   "outputs": [],
   "source": [
    "from nxviz import layouts\n",
    "\n",
    "pos = layouts.circos(nt, group_by=\"group\")"
   ]
  },
  {
   "cell_type": "markdown",
   "id": "colored-daisy",
   "metadata": {},
   "source": [
    "## Node styling\n",
    "\n",
    "Next, we concern ourselves with the styling of the nodes.\n",
    "Here, the `nxviz.encodings` submodule becomes useful for us.\n",
    "\n",
    "When drawing nodes, their color, transparency, and size can be most naturally mapped to data.\n",
    "\n",
    "- Transparency requires that a _quantitative_ value be mappable to the interval (0, 1).\n",
    "- Size requires that a _quantitative_ value be mappable to the positive floats (0, +inf).\n",
    "- Color is the trickiest of them all:\n",
    "    - A categorical variable should be mapped to a categorical colormap.\n",
    "    - A continuous variable should be mapped to a continuous colormap.\n",
    "\n",
    "The choice of colormap is always going to be dependent on the user.\n",
    "If you're looking for a guide on how to choose colormaps,\n",
    "the [Points of View][pov] guide to colors is a very good resource to start with.\n",
    "\n",
    "[pov]: http://blogs.nature.com/methagora/2013/07/data-visualization-points-of-view.html\n",
    "\n",
    "How do we handle styling of nodes?\n",
    "The primary way of doing so is to have a Python function\n",
    "that maps from the node table's column of values (passed in as a pandas Series)\n",
    "to any color specification that matplotlib can handle:\n",
    "\n",
    "- Strings: \"black\", \"yellow\", \"blue\", etc.\n",
    "- RGB(A): `(0.1, 0.8, 0.3, 0.5)`\n",
    "- Hexadecimal: `#FFFFFF`, `#000000`, `#A7C91F`\n",
    "\n",
    "Here's two examples, one using a highly custom mapping, and the other using matplotlib's color maps."
   ]
  },
  {
   "cell_type": "code",
   "execution_count": null,
   "id": "objective-melissa",
   "metadata": {
    "tags": []
   },
   "outputs": [],
   "source": [
    "import matplotlib.pyplot as plt\n",
    "import pandas as pd\n",
    "\n",
    "from nxviz import encodings as aes\n",
    "\n",
    "\n",
    "def group_colormap(data: pd.Series):\n",
    "    cmap = {\"a\": \"black\", \"b\": \"blue\", \"c\": \"red\"}\n",
    "    return data.apply(lambda x: cmap.get(x))\n",
    "\n",
    "\n",
    "def value_colormap(data: pd.Series):\n",
    "    \"\"\"Value colormap.\"\"\"\n",
    "    norm = plt.cm.Normalize(vmin=data.min(), vmax=data.max())\n",
    "    cmap = plt.cm.get_cmap(\"viridis\")\n",
    "    return data.apply(lambda x: cmap(norm(x)))\n",
    "\n",
    "\n",
    "def node_size(data: pd.Series):\n",
    "    return data.apply(np.sqrt)"
   ]
  },
  {
   "cell_type": "markdown",
   "id": "premium-volunteer",
   "metadata": {},
   "source": [
    "We can now combine everything together, into something that basically reconstructs\n",
    "`nodes.draw`."
   ]
  },
  {
   "cell_type": "code",
   "execution_count": null,
   "id": "modern-visitor",
   "metadata": {
    "tags": []
   },
   "outputs": [],
   "source": [
    "import inspect\n",
    "\n",
    "from nxviz import nodes, plots\n",
    "\n",
    "print(inspect.getsource(nodes.draw))"
   ]
  },
  {
   "cell_type": "code",
   "execution_count": null,
   "id": "thirty-phone",
   "metadata": {
    "tags": []
   },
   "outputs": [],
   "source": [
    "ax = plt.gca()\n",
    "\n",
    "# Customize node styling\n",
    "nt = utils.node_table(G)\n",
    "pos = layouts.circos(nt, group_by=\"group\", sort_by=\"value\")\n",
    "node_color = group_colormap(nt[\"group\"])\n",
    "alpha = nodes.transparency(nt, alpha_by=None)\n",
    "size = nodes.node_size(nt, \"value\")\n",
    "patches = nodes.node_glyphs(\n",
    "    nt, pos, node_color=node_color, alpha=alpha, size=size\n",
    ")\n",
    "for patch in patches:\n",
    "    ax.add_patch(patch)\n",
    "plots.rescale(G)\n",
    "plots.aspect_equal()"
   ]
  },
  {
   "cell_type": "markdown",
   "id": "latin-delta",
   "metadata": {},
   "source": [
    "Voila! We now have a sonic hedgehog-style node layout! Pretty cool, isn't it?"
   ]
  },
  {
   "cell_type": "markdown",
   "id": "liked-sentence",
   "metadata": {},
   "source": [
    "## Adding in edges"
   ]
  },
  {
   "cell_type": "markdown",
   "id": "imperial-satin",
   "metadata": {},
   "source": [
    "Once the node layout is complete, customizing the edge styling is a matter of concerning ourselves with:\n",
    "\n",
    "1. Line width\n",
    "2. Transparency\n",
    "3. Color\n",
    "\n",
    "We could customize more, but these three are the most commonly-used for mapping data to style.\n",
    "As with node layouts, we basically have to re-create `nxviz.edges.draw`\n",
    "with customized data-to-style mapping functions."
   ]
  },
  {
   "cell_type": "code",
   "execution_count": null,
   "id": "annoying-center",
   "metadata": {
    "tags": []
   },
   "outputs": [],
   "source": [
    "from nxviz import edges\n",
    "\n",
    "print(inspect.getsource(edges.draw))"
   ]
  },
  {
   "cell_type": "code",
   "execution_count": null,
   "id": "persistent-farming",
   "metadata": {
    "tags": []
   },
   "outputs": [],
   "source": [
    "from nxviz import lines\n",
    "\n",
    "# Customize node styling\n",
    "ax = plt.gca()\n",
    "\n",
    "nt = utils.node_table(G)\n",
    "pos = layouts.circos(nt, group_by=\"group\", sort_by=\"value\")\n",
    "node_color = group_colormap(nt[\"group\"])\n",
    "alpha = nodes.transparency(nt, alpha_by=None)\n",
    "size = nodes.node_size(nt, \"value\")\n",
    "patches = nodes.node_glyphs(\n",
    "    nt, pos, node_color=node_color, alpha=alpha, size=size\n",
    ")\n",
    "for patch in patches:\n",
    "    ax.add_patch(patch)\n",
    "\n",
    "# Customize edge styling\n",
    "et = utils.edge_table(G)\n",
    "edge_color = edges.edge_colors(et, color_by=None)\n",
    "lw = np.sqrt(et[\"edge_value\"])\n",
    "alpha = edges.transparency(et, alpha_by=None)\n",
    "patches = lines.circos(\n",
    "    et, pos, edge_color=edge_color, alpha=alpha, lw=lw, aes_kw={\"fc\": \"none\"}\n",
    ")\n",
    "for patch in patches:\n",
    "    ax.add_patch(patch)\n",
    "\n",
    "plots.rescale(G)\n",
    "plots.aspect_equal()\n",
    "plots.despine()"
   ]
  },
  {
   "cell_type": "markdown",
   "id": "alpha-yesterday",
   "metadata": {},
   "source": [
    "Looking at the plot, we might find that expressing the edges' `edge_value` as line width might not be that effective. Instead, we might want to express it using alpha."
   ]
  },
  {
   "cell_type": "code",
   "execution_count": null,
   "id": "laden-electricity",
   "metadata": {
    "tags": []
   },
   "outputs": [],
   "source": [
    "from nxviz import lines\n",
    "\n",
    "# Customize node styling\n",
    "ax = plt.gca()\n",
    "\n",
    "nt = utils.node_table(G)\n",
    "pos = layouts.circos(nt, group_by=\"group\", sort_by=\"value\")\n",
    "node_color = group_colormap(nt[\"group\"])\n",
    "alpha = nodes.transparency(nt, alpha_by=None)\n",
    "size = nodes.node_size(nt, \"value\")\n",
    "patches = nodes.node_glyphs(\n",
    "    nt, pos, node_color=node_color, alpha=alpha, size=size\n",
    ")\n",
    "for patch in patches:\n",
    "    ax.add_patch(patch)\n",
    "\n",
    "# Customize edge styling\n",
    "et = utils.edge_table(G)\n",
    "edge_color = edges.edge_colors(et, color_by=None)\n",
    "lw = edges.line_width(et, lw_by=None)\n",
    "alpha = edges.transparency(et, alpha_by=\"edge_value\")\n",
    "patches = lines.circos(\n",
    "    et, pos, edge_color=edge_color, alpha=alpha, lw=lw, aes_kw={\"fc\": \"none\"}\n",
    ")\n",
    "for patch in patches:\n",
    "    ax.add_patch(patch)\n",
    "\n",
    "plots.rescale(G)\n",
    "plots.aspect_equal()\n",
    "plots.despine()"
   ]
  },
  {
   "cell_type": "markdown",
   "id": "interracial-documentation",
   "metadata": {},
   "source": [
    "Looking at this plot, it's a lot easier for us to see the important edges (as visualized by the alpha value)."
   ]
  },
  {
   "cell_type": "markdown",
   "id": "agreed-receipt",
   "metadata": {},
   "source": [
    "## Conclusion\n",
    "\n",
    "Throughout this notebook, we dropped down from the mid-level API to the low-level API,\n",
    "where we get to customize node and edge styling to our heart's content.\n",
    "The patterns are easy to follow.\n",
    "For nodes, we customize the **size, color and transparency**.\n",
    "For edges we customize the **line width, color, and transparency**.\n",
    "We can then compose them together into the plots we see above."
   ]
  }
 ],
 "metadata": {
  "kernelspec": {
   "display_name": "nxviz",
   "language": "python",
   "name": "nxviz"
  },
  "language_info": {
   "codemirror_mode": {
    "name": "ipython",
    "version": 3
   },
   "file_extension": ".py",
   "mimetype": "text/x-python",
   "name": "python",
   "nbconvert_exporter": "python",
   "pygments_lexer": "ipython3",
   "version": "3.9.2"
  }
 },
 "nbformat": 4,
 "nbformat_minor": 5
}
