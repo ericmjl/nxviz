{
 "cells": [
  {
   "cell_type": "markdown",
   "id": "aware-watershed",
   "metadata": {},
   "source": [
    "# Object-Oriented API\n",
    "\n",
    "For those who may prefer the object-oriented API of the past, we provide the following class definitions that map directly to the functions."
   ]
  },
  {
   "cell_type": "code",
   "execution_count": null,
   "id": "synthetic-karaoke",
   "metadata": {
    "tags": []
   },
   "outputs": [],
   "source": [
    "%config InlineBackend.figure_format = 'retina'\n",
    "%load_ext autoreload\n",
    "%autoreload 2"
   ]
  },
  {
   "cell_type": "code",
   "execution_count": null,
   "id": "practical-female",
   "metadata": {
    "tags": []
   },
   "outputs": [],
   "source": [
    "from random import choice\n",
    "\n",
    "import matplotlib.pyplot as plt\n",
    "import networkx as nx\n",
    "import numpy as np\n",
    "\n",
    "import nxviz as nv\n",
    "from nxviz import annotate\n",
    "from nxviz.plots import despine, rescale, respine"
   ]
  },
  {
   "cell_type": "markdown",
   "id": "written-jerusalem",
   "metadata": {},
   "source": [
    "## Example Graph\n",
    "\n",
    "We're going to use an example graph, the erdos-renyi graph,\n",
    "to illustrate."
   ]
  },
  {
   "cell_type": "markdown",
   "id": "adjacent-glory",
   "metadata": {},
   "source": [
    "### Source code\n"
   ]
  },
  {
   "cell_type": "code",
   "execution_count": null,
   "id": "divine-humanity",
   "metadata": {
    "tags": []
   },
   "outputs": [],
   "source": [
    "G = nx.erdos_renyi_graph(n=71, p=0.1)\n",
    "for n, d in G.nodes(data=True):\n",
    "    G.nodes[n][\"group\"] = choice([\"a\", \"b\", \"c\"])\n",
    "    G.nodes[n][\"value\"] = np.random.exponential()\n",
    "\n",
    "np.random.seed(44)\n",
    "for u, v, d in G.edges(data=True):\n",
    "    G.edges[u, v][\"edge_value\"] = np.random.exponential()"
   ]
  },
  {
   "cell_type": "markdown",
   "id": "finite-trustee",
   "metadata": {},
   "source": [
    "## API Examples\n",
    "\n",
    "The API from pre-0.7 is mostly preserved as a way \n",
    "to help users who learned the object-oriented API transition over.\n",
    "A key difference here is that instantiating the object \n",
    "and then calling `.draw()` is no longer necessary.\n",
    "Additionally, annotation logic has been moved out of the class definitions \n",
    "and are now available as part of the annotations submodule.\n",
    "\n",
    "Because the API is no longer being officially supported,\n",
    "these will be officially deprecated in version 1.0.\n",
    "A warning message will show up the first time you try to access any of the objects provided.\n",
    "PRs that try to add an object version of a plot will also be rejected."
   ]
  },
  {
   "cell_type": "code",
   "execution_count": null,
   "id": "protecting-treasury",
   "metadata": {
    "tags": []
   },
   "outputs": [],
   "source": [
    "nv.HivePlot(G, node_grouping=\"group\", node_color=\"value\", node_order=\"value\", edge_alpha=\"edge_value\")\n",
    "from nxviz import annotate\n",
    "\n",
    "annotate.hive_group(G, group_by=\"group\", offset=np.pi / 12)"
   ]
  },
  {
   "cell_type": "code",
   "execution_count": null,
   "id": "alert-capture",
   "metadata": {
    "tags": []
   },
   "outputs": [],
   "source": [
    "nv.CircosPlot(G, node_grouping=\"group\", node_color=\"value\", node_order=\"value\")"
   ]
  },
  {
   "cell_type": "code",
   "execution_count": null,
   "id": "grand-orlando",
   "metadata": {
    "tags": []
   },
   "outputs": [],
   "source": [
    "nv.MatrixPlot(G, node_grouping=\"group\", node_color=\"value\", node_order=\"value\")"
   ]
  },
  {
   "cell_type": "code",
   "execution_count": null,
   "id": "wicked-photographer",
   "metadata": {
    "tags": []
   },
   "outputs": [],
   "source": [
    "nv.ArcPlot(\n",
    "    G,\n",
    "    node_grouping=\"group\",\n",
    "    node_color=\"value\",\n",
    "    node_order=\"value\",\n",
    "    edge_color=\"edge_value\",\n",
    ")\n",
    "annotate.arc_group(G, group_by=\"group\", rotation=0)"
   ]
  }
 ],
 "metadata": {
  "kernelspec": {
   "display_name": "nxviz",
   "language": "python",
   "name": "nxviz"
  },
  "language_info": {
   "codemirror_mode": {
    "name": "ipython",
    "version": 3
   },
   "file_extension": ".py",
   "mimetype": "text/x-python",
   "name": "python",
   "nbconvert_exporter": "python",
   "pygments_lexer": "ipython3",
   "version": "3.9.2"
  }
 },
 "nbformat": 4,
 "nbformat_minor": 5
}
