{
 "cells": [
  {
   "cell_type": "markdown",
   "id": "turkish-disorder",
   "metadata": {},
   "source": [
    "# Edge Panels\n",
    "\n",
    "Each small multiple panel has a different subset of edges."
   ]
  },
  {
   "cell_type": "code",
   "execution_count": null,
   "id": "warming-termination",
   "metadata": {
    "tags": []
   },
   "outputs": [],
   "source": [
    "%config InlineBackend.figure_format = 'retina'\n",
    "%load_ext autoreload\n",
    "%autoreload 2"
   ]
  },
  {
   "cell_type": "code",
   "execution_count": null,
   "id": "understanding-african",
   "metadata": {
    "tags": []
   },
   "outputs": [],
   "source": [
    "from random import choice\n",
    "\n",
    "import matplotlib.pyplot as plt\n",
    "import networkx as nx\n",
    "\n",
    "import nxviz as nv\n",
    "import numpy as np"
   ]
  },
  {
   "cell_type": "code",
   "execution_count": null,
   "id": "eleven-girlfriend",
   "metadata": {
    "tags": []
   },
   "outputs": [],
   "source": [
    "categories = \"abcde\"\n",
    "node_categories = \"12345\"\n",
    "\n",
    "G = nx.erdos_renyi_graph(n=70, p=0.1)\n",
    "for u, v in G.edges():\n",
    "    G.edges[u, v][\"group\"] = choice(categories)\n",
    "\n",
    "for n in G.nodes():\n",
    "    G.nodes[n][\"category\"] = choice(node_categories)\n",
    "    G.nodes[n][\"value\"] = np.random.normal()\n",
    "    \n",
    "\n",
    "nv.circos(\n",
    "    G,\n",
    "    group_by=\"category\",\n",
    "    node_color_by=\"category\",\n",
    "    edge_color_by=\"group\",\n",
    "    edge_aes_kwargs={\"alpha_scale\": 5},\n",
    ")"
   ]
  },
  {
   "cell_type": "markdown",
   "id": "postal-intention",
   "metadata": {},
   "source": [
    "This isn't particularly useful. We should use small multiples to visualize."
   ]
  },
  {
   "cell_type": "markdown",
   "id": "embedded-easter",
   "metadata": {},
   "source": [
    "## Edges of different categories"
   ]
  },
  {
   "cell_type": "code",
   "execution_count": null,
   "id": "appointed-pricing",
   "metadata": {
    "tags": []
   },
   "outputs": [],
   "source": [
    "from nxviz import annotate\n",
    "from nxviz.panel import edge_group, n_rows_cols\n",
    "from nxviz.utils import edge_table\n",
    "\n",
    "group_by = \"group\"\n",
    "\n",
    "fig, axes = plt.subplots(figsize=(8, 8), nrows=3, ncols=3)\n",
    "axes = axes.flatten()\n",
    "\n",
    "for i, G_sub in enumerate(edge_group(G, group_by)):\n",
    "    plt.sca(axes[i])\n",
    "    nv.circos(\n",
    "        G_sub, group_by=\"category\", sort_by=None, node_color_by=\"category\"\n",
    "    )\n",
    "    annotate.circos_group(G, group_by=\"category\")\n",
    "\n",
    "for ax in axes[i + 1 :]:\n",
    "    fig.delaxes(ax)\n",
    "\n",
    "plt.tight_layout()"
   ]
  },
  {
   "cell_type": "markdown",
   "id": "decent-integral",
   "metadata": {},
   "source": [
    "## Edges associated with different node categories"
   ]
  },
  {
   "cell_type": "code",
   "execution_count": null,
   "id": "impressed-labor",
   "metadata": {
    "tags": []
   },
   "outputs": [],
   "source": [
    "from nxviz.panel import node_group_edges\n",
    "from nxviz.utils import node_table\n",
    "\n",
    "node_group_by = \"category\"\n",
    "\n",
    "fig, axes = plt.subplots(figsize=(8, 8), nrows=3, ncols=3)\n",
    "axes = axes.flatten()\n",
    "\n",
    "for i, G_sub in enumerate(node_group_edges(G, node_group_by)):\n",
    "    plt.sca(axes[i])\n",
    "    nv.circos(\n",
    "        G_sub, group_by=\"category\", sort_by=\"value\", node_color_by=\"category\"\n",
    "    )\n",
    "    annotate.circos_group(G_sub, group_by=\"category\")\n",
    "\n",
    "for ax in axes[i + 1 :]:\n",
    "    fig.delaxes(ax)\n",
    "\n",
    "plt.tight_layout()"
   ]
  }
 ],
 "metadata": {
  "kernelspec": {
   "display_name": "nxviz",
   "language": "python",
   "name": "nxviz"
  },
  "language_info": {
   "codemirror_mode": {
    "name": "ipython",
    "version": 3
   },
   "file_extension": ".py",
   "mimetype": "text/x-python",
   "name": "python",
   "nbconvert_exporter": "python",
   "pygments_lexer": "ipython3",
   "version": "3.9.2"
  }
 },
 "nbformat": 4,
 "nbformat_minor": 5
}
