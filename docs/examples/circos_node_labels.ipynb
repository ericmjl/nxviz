{
 "cells": [
  {
   "cell_type": "markdown",
   "metadata": {},
   "source": [
    "# Annotating Circos Plot Node Labels\n",
    "\n",
    "This example set was contributed by Alireza Hosseini."
   ]
  },
  {
   "cell_type": "code",
   "execution_count": null,
   "metadata": {},
   "outputs": [],
   "source": [
    "from random import randint\n",
    "\n",
    "import matplotlib.pyplot as plt\n",
    "import networkx as nx\n",
    "\n",
    "import nxviz as nv\n",
    "from nxviz import annotate\n",
    "\n",
    "G = nx.erdos_renyi_graph(n=30, p=0.1)\n",
    "for n, d in G.nodes(data=True):\n",
    "    G.nodes[n][\"group\"] = randint(0, 5)\n",
    "G = nx.relabel_nodes(G, {i: \"long name #\" + str(i) for i in range(len(G))})\n",
    "\n",
    "nv.circos(G, group_by=\"group\", node_color_by=\"group\")\n",
    "annotate.circos_labels(G, group_by=\"group\", layout=\"rotate\")\n",
    "# The rotated labels take up more space, so we will have to increase the\n",
    "# padding a bit. 5% on all sides works well here.\n",
    "plt.tight_layout(rect=(0.05, 0.05, 0.95, 0.95))\n",
    "plt.show()\n"
   ]
  },
  {
   "cell_type": "code",
   "execution_count": null,
   "metadata": {},
   "outputs": [],
   "source": [
    "G = nx.erdos_renyi_graph(n=30, p=0.1)\n",
    "for n, d in G.nodes(data=True):\n",
    "    G.nodes[n][\"group\"] = randint(0, 5)\n",
    "G = nx.relabel_nodes(G, {i: \"long name #\" + str(i) for i in range(len(G))})\n",
    "\n",
    "nv.circos(G, group_by=\"group\", node_color_by=\"group\")\n",
    "annotate.circos_labels(G, group_by=\"group\", layout=\"numbers\")\n",
    "# The numbered labels take up more space, so we will have to increase the\n",
    "# padding a bit. 15% on all sides works well here.\n",
    "plt.tight_layout(rect=(0.15, 0.15, 0.85, 0.85))\n",
    "plt.show()\n"
   ]
  },
  {
   "cell_type": "markdown",
   "metadata": {},
   "source": [
    "# Custom color mapping circos nodes and edges\n",
    "\n",
    "This example shows how to customize the color mapping of nodes and edges in a Circos plot.\n",
    "\n",
    "The example is contributed by Kelvin Tuong."
   ]
  },
  {
   "cell_type": "code",
   "execution_count": null,
   "metadata": {},
   "outputs": [],
   "source": [
    "from itertools import cycle\n",
    "# 14 categories\n",
    "categories = [\n",
    "    \"sun\",\n",
    "    \"moon\",\n",
    "    \"stars\",\n",
    "    \"cloud\",\n",
    "    \"wheel\",\n",
    "    \"box\",\n",
    "    \"plant\",\n",
    "    \"chair\",\n",
    "    \"slippers\",\n",
    "    \"tablet\",\n",
    "    \"laptop\",\n",
    "    \"dishwasher\",\n",
    "    \"bicycle\",\n",
    "    \"piano\",\n",
    "    \"laptop\",\n",
    "]\n",
    "\n",
    "# 20 colors - providing an uneven list on purpose\n",
    "palette = [\n",
    "    \"#1f77b4\",\n",
    "    \"#ff7f0e\",\n",
    "    \"#279e68\",\n",
    "    \"#d62728\",\n",
    "    \"#aa40fc\",\n",
    "    \"#8c564b\",\n",
    "    \"#e377c2\",\n",
    "    \"#b5bd61\",\n",
    "    \"#17becf\",\n",
    "    \"#aec7e8\",\n",
    "    \"#ffbb78\",\n",
    "    \"#98df8a\",\n",
    "    \"#ff9896\",\n",
    "    \"#c5b0d5\",\n",
    "    \"#c49c94\",\n",
    "    \"#f7b6d2\",\n",
    "    \"#dbdb8d\",\n",
    "    \"#9edae5\",\n",
    "    \"#ad494a\",\n",
    "    \"#8c6d31\",\n",
    "]\n",
    "\n",
    "categorical = cycle(categories[0:4]) # max 4 distinct categories\n",
    "categories[0:4]\n",
    "# ['sun', 'moon', 'stars', 'cloud']\n",
    "many_categorical = cycle(categories) # up to 14\n",
    "\n",
    "n = 71\n",
    "p = 0.01\n",
    "G = nx.erdos_renyi_graph(n=n, p=p)\n",
    "\n",
    "for n in G.nodes():\n",
    "    G.nodes[n][\"group1\"] = next(categorical)\n",
    "    G.nodes[n][\"group2\"] = next(many_categorical) # up to 14\n",
    "for u, v in G.edges():\n",
    "    G.edges[u, v][\"edge_group1\"] = next(categorical)\n",
    "    G.edges[u, v][\"edge_group2\"] = next(many_categorical) # up to 14\n",
    "    G.edges[u, v][\"thickness\"] = 3  # just to be able see the edge colours later"
   ]
  },
  {
   "cell_type": "markdown",
   "metadata": {},
   "source": [
    "Current default behavior"
   ]
  },
  {
   "cell_type": "code",
   "execution_count": null,
   "metadata": {},
   "outputs": [],
   "source": [
    "nv.circos(G, group_by=\"group1\", node_color_by=\"group1\")\n",
    "annotate.node_colormapping(G, color_by=\"group1\")"
   ]
  },
  {
   "cell_type": "markdown",
   "metadata": {},
   "source": [
    "Now we can manusally specify the node colors:"
   ]
  },
  {
   "cell_type": "code",
   "execution_count": null,
   "metadata": {},
   "outputs": [],
   "source": [
    "nv.circos(G, group_by=\"group1\", node_color_by=\"group1\", node_palette=palette[:4]) # specify 4 colors for 4 groups\n"
   ]
  },
  {
   "cell_type": "markdown",
   "metadata": {},
   "source": [
    "now with more than 12 categories (14), and a long color palette (20 colors)"
   ]
  },
  {
   "cell_type": "code",
   "execution_count": null,
   "metadata": {},
   "outputs": [],
   "source": [
    "nv.circos(G, group_by=\"group2\", node_color_by=\"group2\", node_palette=palette)\n"
   ]
  },
  {
   "cell_type": "markdown",
   "metadata": {},
   "source": [
    "same as above but limit to 7 colors - colors start to cycle if palette is provided as a list."
   ]
  },
  {
   "cell_type": "code",
   "execution_count": null,
   "metadata": {},
   "outputs": [],
   "source": [
    "nv.circos(G, group_by=\"group2\", node_color_by=\"group2\", node_palette=palette[:7])\n"
   ]
  },
  {
   "cell_type": "markdown",
   "metadata": {},
   "source": [
    "palette provides as a dictionary"
   ]
  },
  {
   "cell_type": "code",
   "execution_count": null,
   "metadata": {},
   "outputs": [],
   "source": [
    "pal = {'moon':'red', 'stars':'yellow', 'sun':'black', 'cloud':'blue'}\n",
    "nv.circos(G, group_by=\"group1\", node_color_by=\"group1\", node_palette=pal)\n",
    "annotate.node_colormapping(G, color_by=\"group1\", palette=pal)"
   ]
  },
  {
   "cell_type": "markdown",
   "metadata": {},
   "source": [
    "order of keys don't matter"
   ]
  },
  {
   "cell_type": "code",
   "execution_count": null,
   "metadata": {},
   "outputs": [],
   "source": [
    "pal = {'moon':'red', 'cloud':'pink', 'stars':'yellow', 'sun':'black'}\n",
    "nv.circos(G, group_by=\"group1\", node_color_by=\"group1\", node_palette=pal)\n",
    "annotate.node_colormapping(G, color_by=\"group1\", palette=pal)"
   ]
  },
  {
   "cell_type": "markdown",
   "metadata": {},
   "source": [
    "can mix colors/hex codes"
   ]
  },
  {
   "cell_type": "code",
   "execution_count": null,
   "metadata": {},
   "outputs": [],
   "source": [
    "pal = ['pink', '#1f77B4', 'green', '#ff7f0e']\n",
    "nv.circos(G, group_by=\"group1\", node_color_by=\"group1\", node_palette=pal)\n",
    "annotate.node_colormapping(G, color_by=\"group1\", palette=pal)"
   ]
  },
  {
   "cell_type": "markdown",
   "metadata": {},
   "source": [
    "swapping of order of colors in a list matters. But the plot should reflect this correctly - if you look up at the dictionary examples, the same order is preserved."
   ]
  },
  {
   "cell_type": "code",
   "execution_count": null,
   "metadata": {},
   "outputs": [],
   "source": [
    "pal = ['pink', '#1f77B4', '#ff7f0e', 'green'] # swapped the order of the last two colours\n",
    "nv.circos(G, group_by=\"group1\", node_color_by=\"group1\", node_palette=pal)\n",
    "annotate.node_colormapping(G, color_by=\"group1\", palette=pal)"
   ]
  },
  {
   "cell_type": "markdown",
   "metadata": {},
   "source": [
    "Can be used on edges as well:"
   ]
  },
  {
   "cell_type": "code",
   "execution_count": null,
   "metadata": {},
   "outputs": [],
   "source": [
    "nv.circos(G, \n",
    "          group_by=\"group2\", \n",
    "          node_color_by=\"group2\", \n",
    "          edge_color_by = 'edge_group1', \n",
    "          node_palette=palette, \n",
    "          edge_palette = palette,\n",
    "          edge_lw_by = 'thickness',\n",
    "         )\n",
    "annotate.node_colormapping(G, color_by=\"group2\", palette=palette)\n",
    "annotate.edge_colormapping(G, color_by=\"edge_group1\", palette=palette)"
   ]
  },
  {
   "cell_type": "code",
   "execution_count": null,
   "metadata": {},
   "outputs": [],
   "source": []
  }
 ],
 "metadata": {
  "kernelspec": {
   "display_name": "nxviz",
   "language": "python",
   "name": "python3"
  },
  "language_info": {
   "codemirror_mode": {
    "name": "ipython",
    "version": 3
   },
   "file_extension": ".py",
   "mimetype": "text/x-python",
   "name": "python",
   "nbconvert_exporter": "python",
   "pygments_lexer": "ipython3",
   "version": "3.12.8"
  }
 },
 "nbformat": 4,
 "nbformat_minor": 2
}
