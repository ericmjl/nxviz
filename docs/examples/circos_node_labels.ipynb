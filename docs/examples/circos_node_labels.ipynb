{
 "cells": [
  {
   "cell_type": "markdown",
   "metadata": {},
   "source": [
    "# Annotating Circos Plot Node Labels\n",
    "\n",
    "This example set was contributed by Alireza Hosseini."
   ]
  },
  {
   "cell_type": "code",
   "execution_count": null,
   "metadata": {},
   "outputs": [],
   "source": [
    "from random import randint\n",
    "\n",
    "import matplotlib.pyplot as plt\n",
    "import networkx as nx\n",
    "\n",
    "import nxviz as nv\n",
    "from nxviz import annotate\n",
    "\n",
    "G = nx.erdos_renyi_graph(n=30, p=0.1)\n",
    "for n, d in G.nodes(data=True):\n",
    "    G.nodes[n][\"group\"] = randint(0, 5)\n",
    "G = nx.relabel_nodes(G, {i: \"long name #\" + str(i) for i in range(len(G))})\n",
    "\n",
    "nv.circos(G, group_by=\"group\", node_color_by=\"group\")\n",
    "annotate.circos_labels(G, group_by=\"group\", layout=\"rotate\")\n",
    "# The rotated labels take up more space, so we will have to increase the\n",
    "# padding a bit. 5% on all sides works well here.\n",
    "plt.tight_layout(rect=(0.05, 0.05, 0.95, 0.95))\n",
    "plt.show()\n"
   ]
  },
  {
   "cell_type": "code",
   "execution_count": null,
   "metadata": {},
   "outputs": [],
   "source": [
    "G = nx.erdos_renyi_graph(n=30, p=0.1)\n",
    "for n, d in G.nodes(data=True):\n",
    "    G.nodes[n][\"group\"] = randint(0, 5)\n",
    "G = nx.relabel_nodes(G, {i: \"long name #\" + str(i) for i in range(len(G))})\n",
    "\n",
    "nv.circos(G, group_by=\"group\", node_color_by=\"group\")\n",
    "annotate.circos_labels(G, group_by=\"group\", layout=\"numbers\")\n",
    "# The numbered labels take up more space, so we will have to increase the\n",
    "# padding a bit. 15% on all sides works well here.\n",
    "plt.tight_layout(rect=(0.15, 0.15, 0.85, 0.85))\n",
    "plt.show()\n"
   ]
  }
 ],
 "metadata": {
  "interpreter": {
   "hash": "98b0a9b7b4eaaa670588a142fd0a9b87eaafe866f1db4228be72b4211d12040f"
  },
  "kernelspec": {
   "display_name": "Python 3.9.6 64-bit ('base': conda)",
   "name": "python3"
  },
  "language_info": {
   "codemirror_mode": {
    "name": "ipython",
    "version": 3
   },
   "file_extension": ".py",
   "mimetype": "text/x-python",
   "name": "python",
   "nbconvert_exporter": "python",
   "pygments_lexer": "ipython3",
   "version": "3.9.6"
  }
 },
 "nbformat": 4,
 "nbformat_minor": 2
}
