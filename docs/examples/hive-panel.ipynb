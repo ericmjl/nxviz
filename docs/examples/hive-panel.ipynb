{
 "cells": [
  {
   "cell_type": "markdown",
   "id": "english-hundred",
   "metadata": {},
   "source": [
    "# Hive Panel"
   ]
  },
  {
   "cell_type": "code",
   "execution_count": null,
   "id": "respected-silicon",
   "metadata": {
    "tags": []
   },
   "outputs": [],
   "source": [
    "%config InlineBackend.figure_format = 'retina'\n",
    "%load_ext autoreload\n",
    "%autoreload 2"
   ]
  },
  {
   "cell_type": "code",
   "execution_count": null,
   "id": "beginning-insulation",
   "metadata": {
    "tags": []
   },
   "outputs": [],
   "source": [
    "from random import choice\n",
    "\n",
    "import matplotlib.pyplot as plt\n",
    "import networkx as nx\n",
    "import numpy as np\n",
    "\n",
    "import nxviz as nv"
   ]
  },
  {
   "cell_type": "code",
   "execution_count": null,
   "id": "amazing-dealing",
   "metadata": {
    "tags": []
   },
   "outputs": [],
   "source": [
    "categories = \"abcde\"\n",
    "\n",
    "G = nx.erdos_renyi_graph(n=70, p=0.1)\n",
    "for n in G.nodes():\n",
    "    G.nodes[n][\"group\"] = choice(categories)\n",
    "    G.nodes[n][\"value\"] = np.random.normal()\n",
    "nv.circos(G, node_color_by=\"group\", group_by=\"group\")"
   ]
  },
  {
   "cell_type": "markdown",
   "id": "thousand-things",
   "metadata": {},
   "source": [
    "Hive plots aren't feasible with >3 groups. However a Hive panel is :). Let's see how to make one."
   ]
  },
  {
   "cell_type": "code",
   "execution_count": null,
   "id": "vocational-afternoon",
   "metadata": {
    "tags": []
   },
   "outputs": [],
   "source": [
    "from itertools import combinations, permutations\n",
    "\n",
    "import numpy as np\n",
    "\n",
    "from nxviz import annotate, utils\n",
    "from nxviz.panel import hive_triplets\n",
    "\n",
    "fig, axes = plt.subplots(figsize=(12, 12), nrows=4, ncols=4)\n",
    "axes = axes.flatten()\n",
    "\n",
    "\n",
    "for i, G_sub in enumerate(hive_triplets(G, \"group\")):\n",
    "    plt.sca(axes[i])\n",
    "    nv.hive(G_sub, group_by=\"group\", sort_by=\"value\", node_color_by=\"group\")\n",
    "    annotate.hive_group(G_sub, group_by=\"group\")\n",
    "\n",
    "for ax in axes[i + 1 :]:\n",
    "    fig.delaxes(ax)"
   ]
  },
  {
   "cell_type": "code",
   "execution_count": null,
   "id": "documentary-induction",
   "metadata": {},
   "outputs": [],
   "source": []
  }
 ],
 "metadata": {
  "kernelspec": {
   "display_name": "nxviz",
   "language": "python",
   "name": "nxviz"
  },
  "language_info": {
   "codemirror_mode": {
    "name": "ipython",
    "version": 3
   },
   "file_extension": ".py",
   "mimetype": "text/x-python",
   "name": "python",
   "nbconvert_exporter": "python",
   "pygments_lexer": "ipython3",
   "version": "3.9.2"
  }
 },
 "nbformat": 4,
 "nbformat_minor": 5
}
