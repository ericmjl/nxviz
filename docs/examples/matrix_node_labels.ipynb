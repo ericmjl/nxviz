{
 "cells": [
  {
   "cell_type": "markdown",
   "metadata": {},
   "source": [
    "# Annotating Node Labels on Matrix Plots.\n",
    "\n",
    "Author: Alireza Hosseini\n"
   ]
  },
  {
   "cell_type": "code",
   "execution_count": null,
   "metadata": {},
   "outputs": [],
   "source": [
    "from random import randint\n",
    "\n",
    "import matplotlib.pyplot as plt\n",
    "import networkx as nx\n",
    "\n",
    "import nxviz as nv\n",
    "from nxviz import annotate\n",
    "\n",
    "G = nx.barbell_graph(m1=10, m2=3)\n",
    "for n, d in G.nodes(data=True):\n",
    "    G.nodes[n][\"group\"] = randint(0, 3)\n",
    "G = nx.relabel_nodes(G, {i: \"long name #\" + str(i) for i in range(len(G))})\n",
    "\n",
    "fig, ax = plt.subplots(figsize=(10, 10))\n",
    "nv.matrix(G, group_by=\"group\", node_color_by=\"group\")\n",
    "annotate.matrix_labels(G, group_by=\"group\", layout=\"standard\")\n",
    "# the standard labels take up more space, so we will have to increase the\n",
    "# padding a bit. 5% on all sides works well here.\n",
    "plt.tight_layout(rect=(0.05, 0.05, 0.95, 0.95))\n",
    "plt.show()\n"
   ]
  },
  {
   "cell_type": "code",
   "execution_count": null,
   "metadata": {},
   "outputs": [],
   "source": []
  }
 ],
 "metadata": {
  "interpreter": {
   "hash": "98b0a9b7b4eaaa670588a142fd0a9b87eaafe866f1db4228be72b4211d12040f"
  },
  "kernelspec": {
   "display_name": "Python 3.9.6 64-bit ('base': conda)",
   "name": "python3"
  },
  "language_info": {
   "codemirror_mode": {
    "name": "ipython",
    "version": 3
   },
   "file_extension": ".py",
   "mimetype": "text/x-python",
   "name": "python",
   "nbconvert_exporter": "python",
   "pygments_lexer": "ipython3",
   "version": "3.9.6"
  }
 },
 "nbformat": 4,
 "nbformat_minor": 2
}
