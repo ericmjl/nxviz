{
 "cells": [
  {
   "cell_type": "markdown",
   "id": "alpha-disability",
   "metadata": {},
   "source": [
    "# Matrix Plot"
   ]
  },
  {
   "cell_type": "code",
   "execution_count": null,
   "id": "statistical-score",
   "metadata": {
    "tags": []
   },
   "outputs": [],
   "source": [
    "%config InlineBackend.figure_format = 'retina'\n",
    "%load_ext autoreload\n",
    "%autoreload 2"
   ]
  },
  {
   "cell_type": "code",
   "execution_count": null,
   "id": "casual-negative",
   "metadata": {
    "tags": []
   },
   "outputs": [],
   "source": [
    "import matplotlib.pyplot as plt\n",
    "import networkx as nx\n",
    "import numpy.random as npr\n",
    "\n",
    "import nxviz as nv"
   ]
  },
  {
   "cell_type": "code",
   "execution_count": null,
   "id": "physical-athens",
   "metadata": {
    "tags": []
   },
   "outputs": [],
   "source": [
    "G = nx.lollipop_graph(m=10, n=4)\n",
    "for n, d in G.nodes(data=True):\n",
    "    G.nodes[n][\"degree\"] = nx.degree(G, n)\n",
    "ax = nv.matrix(G, sort_by=\"degree\", node_color_by=\"degree\")"
   ]
  },
  {
   "cell_type": "code",
   "execution_count": null,
   "id": "logical-referral",
   "metadata": {
    "tags": []
   },
   "outputs": [],
   "source": [
    "nx.draw(G)"
   ]
  }
 ],
 "metadata": {
  "kernelspec": {
   "display_name": "nxviz",
   "language": "python",
   "name": "nxviz"
  },
  "language_info": {
   "codemirror_mode": {
    "name": "ipython",
    "version": 3
   },
   "file_extension": ".py",
   "mimetype": "text/x-python",
   "name": "python",
   "nbconvert_exporter": "python",
   "pygments_lexer": "ipython3",
   "version": "3.9.2"
  }
 },
 "nbformat": 4,
 "nbformat_minor": 5
}
