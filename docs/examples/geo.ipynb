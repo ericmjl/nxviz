{
 "cells": [
  {
   "cell_type": "markdown",
   "id": "prepared-symbol",
   "metadata": {},
   "source": [
    "## Geo Plot\n",
    "\n",
    "In this notebook, we will see how to create geographic graph visualizations\n",
    "using the mid-level and high-level APIs."
   ]
  },
  {
   "cell_type": "code",
   "execution_count": null,
   "id": "permanent-shift",
   "metadata": {
    "tags": []
   },
   "outputs": [],
   "source": [
    "%config InlineBackend.figure_format = 'retina'\n",
    "%load_ext autoreload\n",
    "%autoreload 2"
   ]
  },
  {
   "cell_type": "code",
   "execution_count": null,
   "id": "broad-robinson",
   "metadata": {
    "tags": []
   },
   "outputs": [],
   "source": [
    "import matplotlib.pyplot as plt\n",
    "import networkx as nx\n",
    "\n",
    "import nxviz as nv\n",
    "from nxviz import edges, layouts, nodes, plots, utils, annotate\n",
    "from pyprojroot import here"
   ]
  },
  {
   "cell_type": "code",
   "execution_count": null,
   "id": "laughing-lindsay",
   "metadata": {
    "tags": []
   },
   "outputs": [],
   "source": [
    "G = nx.read_gpickle(here() / \"docs/examples/divvy.pkl\")\n",
    "\n",
    "G_new = G.copy()\n",
    "for n1, n2, d in G.edges(data=True):\n",
    "    if d[\"count\"] < 150:\n",
    "        G_new.remove_edge(n1, n2)"
   ]
  },
  {
   "cell_type": "markdown",
   "id": "numerical-cross",
   "metadata": {},
   "source": [
    "## Mid-level API"
   ]
  },
  {
   "cell_type": "code",
   "execution_count": null,
   "id": "dental-walker",
   "metadata": {
    "tags": []
   },
   "outputs": [],
   "source": [
    "nt = utils.node_table(G_new)\n",
    "pos = nodes.draw(\n",
    "    G_new,\n",
    "    layout_func=layouts.geo,\n",
    "    group_by=None,\n",
    "    sort_by=None,\n",
    "    color_by=\"dpcapacity\",\n",
    "    encodings_kwargs={\"size_scale\": 0.0015},\n",
    ")\n",
    "edges.line(G_new, pos)\n",
    "annotate.node_colormapping(G_new, color_by=\"dpcapacity\")\n",
    "plots.rescale(G)\n",
    "plots.aspect_equal()\n",
    "plots.despine()"
   ]
  },
  {
   "cell_type": "markdown",
   "id": "stuck-evolution",
   "metadata": {},
   "source": [
    "## High-level API"
   ]
  },
  {
   "cell_type": "code",
   "execution_count": null,
   "id": "worst-tragedy",
   "metadata": {
    "tags": []
   },
   "outputs": [],
   "source": [
    "from nxviz import annotate\n",
    "nv.geo(G_new, node_color_by=\"dpcapacity\")\n",
    "annotate.node_colormapping(G_new, color_by=\"dpcapacity\")"
   ]
  }
 ],
 "metadata": {
  "kernelspec": {
   "display_name": "nxviz",
   "language": "python",
   "name": "nxviz"
  },
  "language_info": {
   "codemirror_mode": {
    "name": "ipython",
    "version": 3
   },
   "file_extension": ".py",
   "mimetype": "text/x-python",
   "name": "python",
   "nbconvert_exporter": "python",
   "pygments_lexer": "ipython3",
   "version": "3.9.2"
  }
 },
 "nbformat": 4,
 "nbformat_minor": 5
}
